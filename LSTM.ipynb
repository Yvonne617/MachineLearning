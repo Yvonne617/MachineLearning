{
  "nbformat": 4,
  "nbformat_minor": 0,
  "metadata": {
    "colab": {
      "name": "hw7 (1).ipynb",
      "version": "0.3.2",
      "provenance": []
    },
    "kernelspec": {
      "display_name": "Python 3",
      "language": "python",
      "name": "python3"
    },
    "accelerator": "GPU"
  },
  "cells": [
    {
      "metadata": {
        "id": "NFEuaNx7jhlO",
        "colab_type": "text"
      },
      "cell_type": "markdown",
      "source": [
        "1. Generative Models for Text"
      ]
    },
    {
      "metadata": {
        "colab_type": "code",
        "id": "bKucJQvaq9h1",
        "outputId": "4a9875a5-4612-43ec-8700-59e51e2e36a3",
        "colab": {
          "base_uri": "https://localhost:8080/",
          "height": 34
        }
      },
      "cell_type": "code",
      "source": [
        "import keras\n",
        "import numpy as np\n",
        "import re\n",
        "import os\n",
        "import sys\n",
        "from keras.models import Sequential\n",
        "from keras.layers import Dense\n",
        "from keras.layers import Dropout\n",
        "from keras.layers import LSTM\n",
        "from keras.layers import CuDNNLSTM\n",
        "from keras.layers import Flatten\n",
        "from keras.callbacks import ModelCheckpoint\n",
        "from keras.utils import np_utils"
      ],
      "execution_count": 0,
      "outputs": [
        {
          "output_type": "stream",
          "text": [
            "Using TensorFlow backend.\n"
          ],
          "name": "stderr"
        }
      ]
    },
    {
      "metadata": {
        "colab_type": "code",
        "id": "OD2lzZ92rKNI",
        "colab": {}
      },
      "cell_type": "code",
      "source": [
        "in_sentences=[]\n",
        "text = \"\"\n",
        "raw_text = \"\"\n",
        "\n",
        "for filename in os.listdir('./books'):\n",
        "  if(filename !=\".ipynb_checkpoints\" ):\n",
        "    text = \"\".join(open('./books'+'/'+filename, encoding = \"ascii\",errors=\"ignore\", mode=\"r\").readlines())\n",
        "    raw_text = raw_text + re.sub(\"\\\\s+\", \" \", text).lower()\n"
      ],
      "execution_count": 0,
      "outputs": []
    },
    {
      "metadata": {
        "colab_type": "code",
        "id": "vIQZ1mp0rKSj",
        "outputId": "b750b2f6-3641-4d12-d069-433efcd8e2c7",
        "colab": {
          "base_uri": "https://localhost:8080/",
          "height": 54
        }
      },
      "cell_type": "code",
      "source": [
        "chars = sorted(list(set(raw_text)))\n",
        "char_pairs = list(enumerate(chars))\n",
        "char2nt = dict((c, i) for i, c in enumerate(char_pairs))\n",
        "n_c = len(raw_text)\n",
        "n_v = len(chars)\n",
        "print(chars)"
      ],
      "execution_count": 0,
      "outputs": [
        {
          "output_type": "stream",
          "text": [
            "[' ', '!', '\"', '$', '%', '&', \"'\", '(', ')', '*', '+', '-', '/', '0', '1', '2', '3', '4', '5', '6', '7', '8', '9', ':', ';', '=', '>', '?', '[', '\\\\', ']', '_', 'a', 'b', 'c', 'd', 'e', 'f', 'g', 'h', 'i', 'j', 'k', 'l', 'm', 'n', 'o', 'p', 'q', 'r', 's', 't', 'u', 'v', 'w', 'x', 'y', 'z', '{', '|', '}', '~']\n"
          ],
          "name": "stdout"
        }
      ]
    },
    {
      "metadata": {
        "colab_type": "code",
        "id": "bYmUCdDyrKVR",
        "colab": {}
      },
      "cell_type": "code",
      "source": [
        "W = 100\n",
        "X = []\n",
        "Y = []\n",
        "l = n_c-W\n",
        "for i in range(0, l, 1):\n",
        "    X.append([char2int[char] for char in raw_text[i:i + W]])\n",
        "    Y.append(char2int[raw_text[i + W]])\n",
        "\n",
        "X = np.reshape(X, (len(X), W, 1))/ float(n_v)\n",
        "y = np_utils.to_categorical(Y)"
      ],
      "execution_count": 0,
      "outputs": []
    },
    {
      "metadata": {
        "colab_type": "code",
        "id": "WWHoHykZwjRK",
        "colab": {}
      },
      "cell_type": "code",
      "source": [
        "model = Sequential()\n",
        "model.add(CuDNNLSTM(256, input_shape =(X.shape[1], X.shape[2]), return_sequences = True))\n",
        "model.add(Flatten())\n",
        "model.add(Dense(y.shape[1], activation='softmax'))\n",
        "model.compile(loss='categorical_crossentropy', optimizer='adam')"
      ],
      "execution_count": 0,
      "outputs": []
    },
    {
      "metadata": {
        "colab_type": "code",
        "id": "_ACj-n5YwjT3",
        "colab": {}
      },
      "cell_type": "code",
      "source": [
        "file=\"weights-improvement-{epoch:02d}-{loss:.4f}.hdf5\"\n",
        "checkpoint = ModelCheckpoint(file, monitor='loss', verbose=1, save_best_only=True, mode='min')\n",
        "callbacks_list = [checkpoint]"
      ],
      "execution_count": 0,
      "outputs": []
    },
    {
      "metadata": {
        "colab_type": "code",
        "id": "7vMnshIowjWW",
        "outputId": "4696d32a-5a5b-4051-9a51-c50e6d87b200",
        "colab": {
          "base_uri": "https://localhost:8080/",
          "height": 2074
        }
      },
      "cell_type": "code",
      "source": [
        "model.fit(X, y, epochs=30, batch_size=128, callbacks=callbacks_list)"
      ],
      "execution_count": 0,
      "outputs": [
        {
          "output_type": "stream",
          "text": [
            "Epoch 1/30\n",
            "3474845/3474845 [==============================] - 1101s 317us/step - loss: 2.6024\n",
            "\n",
            "Epoch 00001: loss improved from inf to 2.60245, saving model to weights-improvement-01-2.6024.hdf5\n",
            "Epoch 2/30\n",
            "3474845/3474845 [==============================] - 1100s 317us/step - loss: 2.4213\n",
            "\n",
            "Epoch 00002: loss improved from 2.60245 to 2.42130, saving model to weights-improvement-02-2.4213.hdf5\n",
            "Epoch 3/30\n",
            "3474845/3474845 [==============================] - 1101s 317us/step - loss: 2.2397\n",
            "\n",
            "Epoch 00003: loss improved from 2.42130 to 2.23966, saving model to weights-improvement-03-2.2397.hdf5\n",
            "Epoch 4/30\n",
            "3474845/3474845 [==============================] - 1101s 317us/step - loss: 2.0950\n",
            "\n",
            "Epoch 00004: loss improved from 2.23966 to 2.09496, saving model to weights-improvement-04-2.0950.hdf5\n",
            "Epoch 5/30\n",
            "3474845/3474845 [==============================] - 1100s 317us/step - loss: 1.9912\n",
            "\n",
            "Epoch 00005: loss improved from 2.09496 to 1.99125, saving model to weights-improvement-05-1.9912.hdf5\n",
            "Epoch 6/30\n",
            "3474845/3474845 [==============================] - 1100s 317us/step - loss: 1.9171\n",
            "\n",
            "Epoch 00006: loss improved from 1.99125 to 1.91712, saving model to weights-improvement-06-1.9171.hdf5\n",
            "Epoch 7/30\n",
            "3474845/3474845 [==============================] - 1099s 316us/step - loss: 1.8606\n",
            "\n",
            "Epoch 00007: loss improved from 1.91712 to 1.86056, saving model to weights-improvement-07-1.8606.hdf5\n",
            "Epoch 8/30\n",
            "3474845/3474845 [==============================] - 1102s 317us/step - loss: 1.8169\n",
            "\n",
            "Epoch 00008: loss improved from 1.86056 to 1.81688, saving model to weights-improvement-08-1.8169.hdf5\n",
            "Epoch 9/30\n",
            "3474845/3474845 [==============================] - 1102s 317us/step - loss: 1.7942\n",
            "\n",
            "Epoch 00009: loss improved from 1.81688 to 1.79415, saving model to weights-improvement-09-1.7942.hdf5\n",
            "Epoch 10/30\n",
            "3474845/3474845 [==============================] - 1098s 316us/step - loss: 2.4316\n",
            "\n",
            "Epoch 00010: loss did not improve from 1.79415\n",
            "Epoch 11/30\n",
            "3474845/3474845 [==============================] - 1100s 317us/step - loss: 2.7839\n",
            "\n",
            "Epoch 00011: loss did not improve from 1.79415\n",
            "Epoch 12/30\n",
            "3474845/3474845 [==============================] - 1099s 316us/step - loss: 1.9361\n",
            "\n",
            "Epoch 00012: loss did not improve from 1.79415\n",
            "Epoch 13/30\n",
            "3474845/3474845 [==============================] - 1102s 317us/step - loss: 1.7432\n",
            "\n",
            "Epoch 00013: loss improved from 1.79415 to 1.74320, saving model to weights-improvement-13-1.7432.hdf5\n",
            "Epoch 14/30\n",
            "3474845/3474845 [==============================] - 1102s 317us/step - loss: 1.7106\n",
            "\n",
            "Epoch 00014: loss improved from 1.74320 to 1.71061, saving model to weights-improvement-14-1.7106.hdf5\n",
            "Epoch 15/30\n",
            "3474845/3474845 [==============================] - 1102s 317us/step - loss: 1.6864\n",
            "\n",
            "Epoch 00015: loss improved from 1.71061 to 1.68643, saving model to weights-improvement-15-1.6864.hdf5\n",
            "Epoch 16/30\n",
            "3474845/3474845 [==============================] - 1106s 318us/step - loss: 1.6667\n",
            "\n",
            "Epoch 00016: loss improved from 1.68643 to 1.66665, saving model to weights-improvement-16-1.6667.hdf5\n",
            "Epoch 17/30\n",
            "3474845/3474845 [==============================] - 1110s 319us/step - loss: 1.6489\n",
            "\n",
            "Epoch 00017: loss improved from 1.66665 to 1.64893, saving model to weights-improvement-17-1.6489.hdf5\n",
            "Epoch 18/30\n",
            "3474845/3474845 [==============================] - 1132s 326us/step - loss: 1.6330\n",
            "\n",
            "Epoch 00018: loss improved from 1.64893 to 1.63296, saving model to weights-improvement-18-1.6330.hdf5\n",
            "Epoch 19/30\n",
            "3474845/3474845 [==============================] - 1134s 326us/step - loss: 1.6183\n",
            "\n",
            "Epoch 00019: loss improved from 1.63296 to 1.61834, saving model to weights-improvement-19-1.6183.hdf5\n",
            "Epoch 20/30\n",
            "3474845/3474845 [==============================] - 1134s 326us/step - loss: 1.6049\n",
            "\n",
            "Epoch 00020: loss improved from 1.61834 to 1.60495, saving model to weights-improvement-20-1.6049.hdf5\n",
            "Epoch 21/30\n",
            "3474845/3474845 [==============================] - 1106s 318us/step - loss: 1.5925\n",
            "\n",
            "Epoch 00021: loss improved from 1.60495 to 1.59248, saving model to weights-improvement-21-1.5925.hdf5\n",
            "Epoch 22/30\n",
            "3474845/3474845 [==============================] - 1106s 318us/step - loss: 1.5811\n",
            "\n",
            "Epoch 00022: loss improved from 1.59248 to 1.58109, saving model to weights-improvement-22-1.5811.hdf5\n",
            "Epoch 23/30\n",
            "3474845/3474845 [==============================] - 1104s 318us/step - loss: 1.5709\n",
            "\n",
            "Epoch 00023: loss improved from 1.58109 to 1.57086, saving model to weights-improvement-23-1.5709.hdf5\n",
            "Epoch 24/30\n",
            "3474845/3474845 [==============================] - 1105s 318us/step - loss: 1.5610\n",
            "\n",
            "Epoch 00024: loss improved from 1.57086 to 1.56098, saving model to weights-improvement-24-1.5610.hdf5\n",
            "Epoch 25/30\n",
            "3474845/3474845 [==============================] - 1106s 318us/step - loss: 1.5517\n",
            "\n",
            "Epoch 00025: loss improved from 1.56098 to 1.55171, saving model to weights-improvement-25-1.5517.hdf5\n",
            "Epoch 26/30\n",
            "3474845/3474845 [==============================] - 1119s 322us/step - loss: 1.5429\n",
            "\n",
            "Epoch 00026: loss improved from 1.55171 to 1.54287, saving model to weights-improvement-26-1.5429.hdf5\n",
            "Epoch 27/30\n",
            "3474845/3474845 [==============================] - 1109s 319us/step - loss: 1.5346\n",
            "\n",
            "Epoch 00027: loss improved from 1.54287 to 1.53461, saving model to weights-improvement-27-1.5346.hdf5\n",
            "Epoch 28/30\n",
            "3474845/3474845 [==============================] - 1102s 317us/step - loss: 1.5269\n",
            "\n",
            "Epoch 00028: loss improved from 1.53461 to 1.52692, saving model to weights-improvement-28-1.5269.hdf5\n",
            "Epoch 29/30\n",
            "3474845/3474845 [==============================] - 1099s 316us/step - loss: 1.5198\n",
            "\n",
            "Epoch 00029: loss improved from 1.52692 to 1.51984, saving model to weights-improvement-29-1.5198.hdf5\n",
            "Epoch 30/30\n",
            "3474845/3474845 [==============================] - 1103s 317us/step - loss: 1.5129\n",
            "\n",
            "Epoch 00030: loss improved from 1.51984 to 1.51292, saving model to weights-improvement-30-1.5129.hdf5\n"
          ],
          "name": "stdout"
        },
        {
          "output_type": "execute_result",
          "data": {
            "text/plain": [
              "<keras.callbacks.History at 0x7f2a03c41ac8>"
            ]
          },
          "metadata": {
            "tags": []
          },
          "execution_count": 16
        }
      ]
    },
    {
      "metadata": {
        "colab_type": "code",
        "outputId": "19590c50-5527-4dd4-89bc-f7b8093235a2",
        "id": "ru47HV6IfjLr",
        "colab": {
          "base_uri": "https://localhost:8080/",
          "height": 54
        }
      },
      "cell_type": "code",
      "source": [
        "raw_text = \"There are those who take mental phenomena naively just as they would physical phenomena This school of psychologists tends not to emphasize the object\".lower()\n",
        "chars = sorted(list(set(raw_text)))\n",
        "c_pairs = list(enumerate(chars))\n",
        "char2int = dict((c, i) for i, c in c_pairs)\n",
        "int2char = dict((i, c) for i, c in c_pairs)\n",
        "n_c = len(raw_text)\n",
        "n_v = len(chars)\n",
        "W = 100\n",
        "X = []\n",
        "Y = []\n",
        "for i in range(0, n_c - W, 1):\n",
        "\tX.append([char2int[char] for char in raw_text[i:i + W]])\n",
        "\tY.append(char2int[raw_text[i + W]])\n",
        "X = numpy.reshape(X, (len(X), W, 1))\n",
        "X /= n_v\n",
        "y = np_utils.to_categorical(Y)\n",
        "model2 = Sequential()\n",
        "model2.add(CuDNNLSTM(64, input_shape =(X.shape[1], X.shape[2]), return_sequences = True))\n",
        "model2.add(Flatten())\n",
        "model2.add(Dense(y.shape[1], activation='softmax'))\n",
        "model2.load_weights(\"weights-improvement-29-1.5198.hdf5\", by_name=True)\n",
        "model2.compile(loss='categorical_crossentropy', optimizer='adam')\n",
        "\n",
        "import random\n",
        "# pick a random seed\n",
        "p = X[random.randint(0, len(X)-1)]\n",
        "# generate text\n",
        "for i in range(1000):\n",
        "\tx = np.reshape(pattern, (1, len(pattern), 1))/n_v\n",
        "\tindex = numpy.argmax(model.predict(x,verbose=0))\n",
        "\tresult = int2char[index]\n",
        "\tsys.stdout.write(result)\n",
        "\tp = p.append(index)\n",
        "  l_p = len(p)\n",
        "\tp = p[1:l_p]\n",
        "\n",
        "\n"
      ],
      "execution_count": 0,
      "outputs": [
        {
          "output_type": "stream",
          "text": [
            "difficult want difficult want difficult want difficult want difficult want difficult want difficult want difficult want difficult want difficult want difficult want difficult want difficult want difficult want difficult want difficult want difficult want difficult want difficult want difficult want difficult want difficult want difficult want difficult want difficult want difficult want difficult want difficult want difficult want difficult want difficult want difficult want difficult want difficult want difficult want difficult want difficult want difficult want difficult want difficult want difficult want difficult want difficult want difficult want difficult want difficult want difficult want difficult want difficult want difficult want difficult want difficult want difficult want difficult want difficult want difficult want difficult want difficult want difficult want difficult want difficult want difficult want difficult want difficult want difficult want difficult want difficult want\n"
          ],
          "name": "stdout"
        }
      ]
    },
    {
      "metadata": {
        "id": "TafyONcxjFVD",
        "colab_type": "text"
      },
      "cell_type": "markdown",
      "source": [
        "*2*. (Deep) CNNs for Image Colorization"
      ]
    },
    {
      "metadata": {
        "id": "v5rBpXpBEHyG",
        "colab_type": "code",
        "outputId": "ea3dfac4-5515-43a4-cd8c-f427181546fd",
        "colab": {
          "base_uri": "https://localhost:8080/",
          "height": 34
        }
      },
      "cell_type": "code",
      "source": [
        "import io\n",
        "import numpy as np\n",
        "import pandas as pd\n",
        "import keras\n",
        "from keras.models import Sequential\n",
        "from keras.layers import Dropout, MaxPooling2D, Conv2D, Dense\n",
        "from keras.datasets import cifar10\n",
        "from sklearn.cluster import KMeans\n",
        "import matplotlib.pyplot as plt\n",
        "from skimage.color import rgb2grey"
      ],
      "execution_count": 0,
      "outputs": [
        {
          "output_type": "stream",
          "text": [
            "Using TensorFlow backend.\n"
          ],
          "name": "stderr"
        }
      ]
    },
    {
      "metadata": {
        "id": "zTN9nUmVEHyI",
        "colab_type": "code",
        "colab": {}
      },
      "cell_type": "code",
      "source": [
        "(X_train, y_train), (X_test, y_test) = cifar10.load_data()\n",
        "X = np.vstack((X_train,X_test))\n",
        "y = np.vstack((y_train,y_test)).flatten()\n",
        "pairs =  enumerate(y)\n",
        "for i,j in pairs:\n",
        "  if j == 2:\n",
        "    k = i\n",
        "X = X[k]\n",
        "y = y[k]"
      ],
      "execution_count": 0,
      "outputs": []
    },
    {
      "metadata": {
        "id": "XH3peanLEqJf",
        "colab_type": "code",
        "outputId": "22a2ba89-3988-4942-d057-a9850a2fc620",
        "colab": {
          "base_uri": "https://localhost:8080/",
          "height": 291
        }
      },
      "cell_type": "code",
      "source": [
        "for i in range(0,10):\n",
        "    axis = plt.subplot(2,5,i+1)\n",
        "    arr = X[i]\n",
        "    axis.imshow(arr)\n",
        "    plt.axis('off')\n",
        "plt.show()"
      ],
      "execution_count": 0,
      "outputs": [
        {
          "output_type": "display_data",
          "data": {
            "image/png": "[encoded data removed]",
            "text/plain": [
              "<matplotlib.figure.Figure at 0x7f57eeb90828>"
            ]
          },
          "metadata": {
            "tags": []
          }
        }
      ]
    },
    {
      "metadata": {
        "id": "-Usb5_zuEq6H",
        "colab_type": "code",
        "colab": {}
      },
      "cell_type": "code",
      "source": [
        "X = X.reshape((6144000,3))\n",
        "kmeans = KMeans(n_clusters=4,random_state=0).fit(X)\n",
        "X2 = X\n",
        "for i in range(len(X)):\n",
        "    label = kmeans.labels_[i]\n",
        "    X_2[i] = kmeans.cluster_centers_[label]"
      ],
      "execution_count": 0,
      "outputs": []
    },
    {
      "metadata": {
        "id": "csb4ybvqE3RD",
        "colab_type": "code",
        "outputId": "481f509a-3ab3-4cc6-a942-52e09666150d",
        "colab": {
          "base_uri": "https://localhost:8080/",
          "height": 291
        }
      },
      "cell_type": "code",
      "source": [
        "X3 = X2.reshape((6000,32,32,3))\n",
        "for i in range(0,10):\n",
        "    axis = plt.subplot(2,5,i+1)\n",
        "    arr = X3[i]\n",
        "    axis.imshow(arr)\n",
        "    plt.axis('off')\n",
        "plt.show()"
      ],
      "execution_count": 0,
      "outputs": [
        {
          "output_type": "display_data",
          "data": {
            "image/png": "[encoded data removed]",
            "text/plain": [
              "<matplotlib.figure.Figure at 0x7f57ee99d470>"
            ]
          },
          "metadata": {
            "tags": []
          }
        }
      ]
    },
    {
      "metadata": {
        "id": "bvB0H5e_FEl9",
        "colab_type": "code",
        "outputId": "d1bfe211-436f-4387-b281-9374a259f2eb",
        "colab": {
          "base_uri": "https://localhost:8080/",
          "height": 291
        }
      },
      "cell_type": "code",
      "source": [
        "y2 = keras.utils.to_categorical(kmeans.labels_).reshape((6000,32,32,4))\n",
        "X = X.reshape((6000,32,32,3))\n",
        "X4 = []\n",
        "for i in range(len(X)):\n",
        "    temp = rgb2grey(X[i]).tolist()\n",
        "    X4.append(temp)\n",
        "X4 = np.array(X4)\n",
        "\n",
        "for i in range(0,10):\n",
        "    axis = plt.subplot(2,5,i+1)\n",
        "    arr = X_N[i]\n",
        "    axis.imshow(arr,cmap='gray')\n",
        "    plt.axis('off')\n",
        "plt.show()"
      ],
      "execution_count": 0,
      "outputs": [
        {
          "output_type": "display_data",
          "data": {
            "image/png": "[encoded data removed]",
            "text/plain": [
              "<matplotlib.figure.Figure at 0x7f57eea82518>"
            ]
          },
          "metadata": {
            "tags": []
          }
        }
      ]
    },
    {
      "metadata": {
        "id": "F-0YgfQMFHQR",
        "colab_type": "code",
        "colab": {}
      },
      "cell_type": "code",
      "source": [
        "X_N = X_N.reshape((6000,32,32,1))\n",
        "X_train = X_N[0:5984]\n",
        "y_train = y_N[0:5984]\n",
        "X_test = X_N[-16:]\n",
        "y_test = y_N[-16:]\n",
        "\n",
        "X_train = np.vstack((X_train,X_test))\n",
        "y_train = np.vstack((y_train,y_test))"
      ],
      "execution_count": 0,
      "outputs": []
    },
    {
      "metadata": {
        "id": "UkwCXmdmFO47",
        "colab_type": "code",
        "colab": {}
      },
      "cell_type": "code",
      "source": [
        "model = Sequential()\n",
        "model.add(Conv2D(64, kernel_size = (5,5), strides=(1, 1), padding='same', input_shape = (32,32,1)))\n",
        "model.add(MaxPooling2D(pool_size=(2, 2), strides=(1, 1), padding='same'))\n",
        "model.add(Conv2D(64, kernel_size = (5,5), strides=(1, 1), padding='same'))\n",
        "model.add(MaxPooling2D(pool_size=(2, 2), strides=(1, 1), padding='same'))\n",
        "model.add(Dense(32, activation='softmax'))\n"
      ],
      "execution_count": 0,
      "outputs": []
    },
    {
      "metadata": {
        "id": "lgCUTc_ZFRpe",
        "colab_type": "code",
        "outputId": "baf94c61-5361-4c7a-d63e-01733ac97566",
        "colab": {
          "base_uri": "https://localhost:8080/",
          "height": 1413
        }
      },
      "cell_type": "code",
      "source": [
        "model.compile(loss='categorical_crossentropy', optimizer='sgd', metrics = ['accuracy'])\n",
        "history = model.fit(X_train, y_train, epochs=30, validation_split=0.1)\n",
        "plt.plot(history.history['loss'])\n",
        "plt.plot(history.history['val_loss'])\n",
        "plt.title('Train vs Validation Loss')\n",
        "plt.ylabel('Loss')\n",
        "plt.xlabel('Epoch')\n",
        "plt.legend(['Train', 'Validation'], loc='upper right')\n",
        "plt.show()"
      ],
      "execution_count": 0,
      "outputs": [
        {
          "output_type": "stream",
          "text": [
            "Train on 5400 samples, validate on 600 samples\n",
            "Epoch 1/30\n",
            "5400/5400 [==============================] - 5s 969us/step - loss: 1.3734 - acc: 0.3291 - val_loss: 1.3644 - val_acc: 0.3317\n",
            "Epoch 2/30\n",
            "5400/5400 [==============================] - 4s 667us/step - loss: 1.3555 - acc: 0.3385 - val_loss: 1.3546 - val_acc: 0.3317\n",
            "Epoch 3/30\n",
            "5400/5400 [==============================] - 4s 671us/step - loss: 1.3474 - acc: 0.3385 - val_loss: 1.3500 - val_acc: 0.3317\n",
            "Epoch 4/30\n",
            "5400/5400 [==============================] - 4s 675us/step - loss: 1.3432 - acc: 0.3385 - val_loss: 1.3476 - val_acc: 0.3317\n",
            "Epoch 5/30\n",
            "5400/5400 [==============================] - 4s 669us/step - loss: 1.3406 - acc: 0.3385 - val_loss: 1.3458 - val_acc: 0.3317\n",
            "Epoch 6/30\n",
            "5400/5400 [==============================] - 4s 668us/step - loss: 1.3385 - acc: 0.3385 - val_loss: 1.3440 - val_acc: 0.3317\n",
            "Epoch 7/30\n",
            "5400/5400 [==============================] - 4s 674us/step - loss: 1.3363 - acc: 0.3385 - val_loss: 1.3418 - val_acc: 0.3317\n",
            "Epoch 8/30\n",
            "5400/5400 [==============================] - 4s 670us/step - loss: 1.3332 - acc: 0.3385 - val_loss: 1.3379 - val_acc: 0.3317\n",
            "Epoch 9/30\n",
            "5400/5400 [==============================] - 4s 666us/step - loss: 1.3268 - acc: 0.3496 - val_loss: 1.3279 - val_acc: 0.4066\n",
            "Epoch 10/30\n",
            "5400/5400 [==============================] - 4s 666us/step - loss: 1.3138 - acc: 0.4647 - val_loss: 1.3139 - val_acc: 0.4606\n",
            "Epoch 11/30\n",
            "5400/5400 [==============================] - 4s 667us/step - loss: 1.3013 - acc: 0.4707 - val_loss: 1.3020 - val_acc: 0.4657\n",
            "Epoch 12/30\n",
            "5400/5400 [==============================] - 4s 666us/step - loss: 1.2892 - acc: 0.4796 - val_loss: 1.2891 - val_acc: 0.4702\n",
            "Epoch 13/30\n",
            "5400/5400 [==============================] - 4s 669us/step - loss: 1.2758 - acc: 0.4836 - val_loss: 1.2748 - val_acc: 0.4748\n",
            "Epoch 14/30\n",
            "5400/5400 [==============================] - 4s 669us/step - loss: 1.2608 - acc: 0.4880 - val_loss: 1.2586 - val_acc: 0.4755\n",
            "Epoch 15/30\n",
            "5400/5400 [==============================] - 4s 674us/step - loss: 1.2439 - acc: 0.4899 - val_loss: 1.2404 - val_acc: 0.4824\n",
            "Epoch 16/30\n",
            "5400/5400 [==============================] - 4s 669us/step - loss: 1.2249 - acc: 0.4942 - val_loss: 1.2201 - val_acc: 0.4863\n",
            "Epoch 17/30\n",
            "5400/5400 [==============================] - 4s 672us/step - loss: 1.2039 - acc: 0.5002 - val_loss: 1.1978 - val_acc: 0.4905\n",
            "Epoch 18/30\n",
            "5400/5400 [==============================] - 4s 668us/step - loss: 1.1811 - acc: 0.5072 - val_loss: 1.1740 - val_acc: 0.5003\n",
            "Epoch 19/30\n",
            "5400/5400 [==============================] - 4s 672us/step - loss: 1.1572 - acc: 0.5141 - val_loss: 1.1496 - val_acc: 0.5073\n",
            "Epoch 20/30\n",
            "5400/5400 [==============================] - 4s 667us/step - loss: 1.1329 - acc: 0.5233 - val_loss: 1.1253 - val_acc: 0.5153\n",
            "Epoch 21/30\n",
            "5400/5400 [==============================] - 4s 669us/step - loss: 1.1090 - acc: 0.5292 - val_loss: 1.1016 - val_acc: 0.5189\n",
            "Epoch 22/30\n",
            "5400/5400 [==============================] - 4s 665us/step - loss: 1.0856 - acc: 0.5334 - val_loss: 1.0785 - val_acc: 0.5243\n",
            "Epoch 23/30\n",
            "5400/5400 [==============================] - 4s 670us/step - loss: 1.0628 - acc: 0.5369 - val_loss: 1.0558 - val_acc: 0.5284\n",
            "Epoch 24/30\n",
            "5400/5400 [==============================] - 4s 672us/step - loss: 1.0394 - acc: 0.5407 - val_loss: 1.0315 - val_acc: 0.5326\n",
            "Epoch 25/30\n",
            "5400/5400 [==============================] - 4s 675us/step - loss: 1.0121 - acc: 0.5467 - val_loss: 1.0011 - val_acc: 0.5397\n",
            "Epoch 26/30\n",
            "5400/5400 [==============================] - 4s 674us/step - loss: 0.9802 - acc: 0.5552 - val_loss: 0.9721 - val_acc: 0.5465\n",
            "Epoch 27/30\n",
            "5400/5400 [==============================] - 4s 665us/step - loss: 0.9543 - acc: 0.5601 - val_loss: 0.9500 - val_acc: 0.5490\n",
            "Epoch 28/30\n",
            "5400/5400 [==============================] - 4s 669us/step - loss: 0.9343 - acc: 0.5617 - val_loss: 0.9321 - val_acc: 0.5501\n",
            "Epoch 29/30\n",
            "5400/5400 [==============================] - 4s 665us/step - loss: 0.9170 - acc: 0.5638 - val_loss: 0.9156 - val_acc: 0.5564\n",
            "Epoch 30/30\n",
            "5400/5400 [==============================] - 4s 667us/step - loss: 0.9010 - acc: 0.5807 - val_loss: 0.9001 - val_acc: 0.5815\n"
          ],
          "name": "stdout"
        },
        {
          "output_type": "display_data",
          "data": {
            "image/png": "[encoded data removed]",
            "text/plain": [
              "<matplotlib.figure.Figure at 0x7f57f31ea208>"
            ]
          },
          "metadata": {
            "tags": []
          }
        }
      ]
    },
    {
      "metadata": {
        "id": "XwkE2bQ3FUIR",
        "colab_type": "code",
        "colab": {}
      },
      "cell_type": "code",
      "source": [
        "p = model.predict(X_test).reshape((16384,4))[:,0:3]\n",
        "l = len(predictions)\n",
        "for i in range(l):\n",
        "    p[i] = kmeans.cluster_centers_[np.argmax(predictions[i])]\n",
        "p = p.reshape((16,32,32,3))\n"
      ],
      "execution_count": 0,
      "outputs": []
    },
    {
      "metadata": {
        "id": "Q8vXVeMqFjO3",
        "colab_type": "code",
        "outputId": "06b6b487-6580-46e5-ba80-73ac15d22218",
        "colab": {
          "base_uri": "https://localhost:8080/",
          "height": 291
        }
      },
      "cell_type": "code",
      "source": [
        "for i in range(0,10):\n",
        "    axis = plt.subplot(2,5,i+1)\n",
        "    arr = X_test.reshape(16,32,32)[i]\n",
        "    axis.imshow(arr)\n",
        "    plt.axis('off')\n",
        "plt.show()"
      ],
      "execution_count": 0,
      "outputs": [
        {
          "output_type": "display_data",
          "data": {
            "image/png": "[encoded data removed]",
            "text/plain": [
              "<matplotlib.figure.Figure at 0x7f57eef22390>"
            ]
          },
          "metadata": {
            "tags": []
          }
        }
      ]
    },
    {
      "metadata": {
        "id": "8rrfxaAZFmOE",
        "colab_type": "code",
        "outputId": "737aebe4-c5b7-4813-fed1-a58ede5c3618",
        "colab": {
          "base_uri": "https://localhost:8080/",
          "height": 291
        }
      },
      "cell_type": "code",
      "source": [
        "for i in range(0,10):\n",
        "    axis = plt.subplot(2,5,i+1)\n",
        "    arr = pred[i]\n",
        "    axis.imshow(arr)\n",
        "    plt.axis('off')\n",
        "plt.show()"
      ],
      "execution_count": 0,
      "outputs": [
        {
          "output_type": "display_data",
          "data": {
            "image/png": "[encoded data removed]",
            "text/plain": [
              "<matplotlib.figure.Figure at 0x7f57ee968940>"
            ]
          },
          "metadata": {
            "tags": []
          }
        }
      ]
    }
  ]
}