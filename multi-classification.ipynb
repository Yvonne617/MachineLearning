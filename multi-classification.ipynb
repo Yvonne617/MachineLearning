{
 "cells": [
  {
   "cell_type": "markdown",
   "metadata": {},
   "source": [
    "# Homework 1Multi-class and Multi-Label Classification Using Support Vector Machines"
   ]
  },
  {
   "cell_type": "code",
   "execution_count": 45,
   "metadata": {},
   "outputs": [],
   "source": [
    "import pandas as pd\n",
    "import numpy as np\n",
    "from sklearn import preprocessing\n",
    "from sklearn.preprocessing import label_binarize\n",
    "from sklearn.multiclass import OneVsRestClassifier\n",
    "from sklearn.metrics import hamming_loss\n",
    "from sklearn.metrics import accuracy_score\n",
    "from imblearn.over_sampling import SMOTE\n",
    "from sklearn.cluster import KMeans\n",
    "from sklearn.metrics import silhouette_score\n",
    "import matplotlib.pyplot as plt\n",
    "import xlrd\n",
    "from sklearn.svm import LinearSVC\n",
    "import warnings\n",
    "warnings.filterwarnings('ignore')\n",
    "\n",
    "import matplotlib.pyplot as plt"
   ]
  },
  {
   "cell_type": "markdown",
   "metadata": {},
   "source": [
    "## (a)Choos 70% of the training set"
   ]
  },
  {
   "cell_type": "code",
   "execution_count": 5,
   "metadata": {},
   "outputs": [
    {
     "data": {
      "text/html": [
       "<div>\n",
       "<table border=\"1\" class=\"dataframe\">\n",
       "  <thead>\n",
       "    <tr style=\"text-align: right;\">\n",
       "      <th></th>\n",
       "      <th>MFCCs_ 1</th>\n",
       "      <th>MFCCs_ 2</th>\n",
       "      <th>MFCCs_ 3</th>\n",
       "      <th>MFCCs_ 4</th>\n",
       "      <th>MFCCs_ 5</th>\n",
       "      <th>MFCCs_ 6</th>\n",
       "      <th>MFCCs_ 7</th>\n",
       "      <th>MFCCs_ 8</th>\n",
       "      <th>MFCCs_ 9</th>\n",
       "      <th>MFCCs_10</th>\n",
       "      <th>...</th>\n",
       "      <th>MFCCs_17</th>\n",
       "      <th>MFCCs_18</th>\n",
       "      <th>MFCCs_19</th>\n",
       "      <th>MFCCs_20</th>\n",
       "      <th>MFCCs_21</th>\n",
       "      <th>MFCCs_22</th>\n",
       "      <th>Family</th>\n",
       "      <th>Genus</th>\n",
       "      <th>Species</th>\n",
       "      <th>RecordID</th>\n",
       "    </tr>\n",
       "  </thead>\n",
       "  <tbody>\n",
       "    <tr>\n",
       "      <th>0</th>\n",
       "      <td>1.0</td>\n",
       "      <td>0.152936</td>\n",
       "      <td>-0.105586</td>\n",
       "      <td>0.200722</td>\n",
       "      <td>0.317201</td>\n",
       "      <td>0.260764</td>\n",
       "      <td>0.100945</td>\n",
       "      <td>-0.150063</td>\n",
       "      <td>-0.171128</td>\n",
       "      <td>0.124676</td>\n",
       "      <td>...</td>\n",
       "      <td>-0.108351</td>\n",
       "      <td>-0.077623</td>\n",
       "      <td>-0.009568</td>\n",
       "      <td>0.057684</td>\n",
       "      <td>0.118680</td>\n",
       "      <td>0.014038</td>\n",
       "      <td>Leptodactylidae</td>\n",
       "      <td>Adenomera</td>\n",
       "      <td>AdenomeraAndre</td>\n",
       "      <td>1</td>\n",
       "    </tr>\n",
       "    <tr>\n",
       "      <th>1</th>\n",
       "      <td>1.0</td>\n",
       "      <td>0.171534</td>\n",
       "      <td>-0.098975</td>\n",
       "      <td>0.268425</td>\n",
       "      <td>0.338672</td>\n",
       "      <td>0.268353</td>\n",
       "      <td>0.060835</td>\n",
       "      <td>-0.222475</td>\n",
       "      <td>-0.207693</td>\n",
       "      <td>0.170883</td>\n",
       "      <td>...</td>\n",
       "      <td>-0.090974</td>\n",
       "      <td>-0.056510</td>\n",
       "      <td>-0.035303</td>\n",
       "      <td>0.020140</td>\n",
       "      <td>0.082263</td>\n",
       "      <td>0.029056</td>\n",
       "      <td>Leptodactylidae</td>\n",
       "      <td>Adenomera</td>\n",
       "      <td>AdenomeraAndre</td>\n",
       "      <td>1</td>\n",
       "    </tr>\n",
       "    <tr>\n",
       "      <th>2</th>\n",
       "      <td>1.0</td>\n",
       "      <td>0.152317</td>\n",
       "      <td>-0.082973</td>\n",
       "      <td>0.287128</td>\n",
       "      <td>0.276014</td>\n",
       "      <td>0.189867</td>\n",
       "      <td>0.008714</td>\n",
       "      <td>-0.242234</td>\n",
       "      <td>-0.219153</td>\n",
       "      <td>0.232538</td>\n",
       "      <td>...</td>\n",
       "      <td>-0.050691</td>\n",
       "      <td>-0.023590</td>\n",
       "      <td>-0.066722</td>\n",
       "      <td>-0.025083</td>\n",
       "      <td>0.099108</td>\n",
       "      <td>0.077162</td>\n",
       "      <td>Leptodactylidae</td>\n",
       "      <td>Adenomera</td>\n",
       "      <td>AdenomeraAndre</td>\n",
       "      <td>1</td>\n",
       "    </tr>\n",
       "    <tr>\n",
       "      <th>3</th>\n",
       "      <td>1.0</td>\n",
       "      <td>0.224392</td>\n",
       "      <td>0.118985</td>\n",
       "      <td>0.329432</td>\n",
       "      <td>0.372088</td>\n",
       "      <td>0.361005</td>\n",
       "      <td>0.015501</td>\n",
       "      <td>-0.194347</td>\n",
       "      <td>-0.098181</td>\n",
       "      <td>0.270375</td>\n",
       "      <td>...</td>\n",
       "      <td>-0.136009</td>\n",
       "      <td>-0.177037</td>\n",
       "      <td>-0.130498</td>\n",
       "      <td>-0.054766</td>\n",
       "      <td>-0.018691</td>\n",
       "      <td>0.023954</td>\n",
       "      <td>Leptodactylidae</td>\n",
       "      <td>Adenomera</td>\n",
       "      <td>AdenomeraAndre</td>\n",
       "      <td>1</td>\n",
       "    </tr>\n",
       "    <tr>\n",
       "      <th>4</th>\n",
       "      <td>1.0</td>\n",
       "      <td>0.087817</td>\n",
       "      <td>-0.068345</td>\n",
       "      <td>0.306967</td>\n",
       "      <td>0.330923</td>\n",
       "      <td>0.249144</td>\n",
       "      <td>0.006884</td>\n",
       "      <td>-0.265423</td>\n",
       "      <td>-0.172700</td>\n",
       "      <td>0.266434</td>\n",
       "      <td>...</td>\n",
       "      <td>-0.048885</td>\n",
       "      <td>-0.053074</td>\n",
       "      <td>-0.088550</td>\n",
       "      <td>-0.031346</td>\n",
       "      <td>0.108610</td>\n",
       "      <td>0.079244</td>\n",
       "      <td>Leptodactylidae</td>\n",
       "      <td>Adenomera</td>\n",
       "      <td>AdenomeraAndre</td>\n",
       "      <td>1</td>\n",
       "    </tr>\n",
       "  </tbody>\n",
       "</table>\n",
       "<p>5 rows × 26 columns</p>\n",
       "</div>"
      ],
      "text/plain": [
       "   MFCCs_ 1  MFCCs_ 2  MFCCs_ 3  MFCCs_ 4  MFCCs_ 5  MFCCs_ 6  MFCCs_ 7  \\\n",
       "0       1.0  0.152936 -0.105586  0.200722  0.317201  0.260764  0.100945   \n",
       "1       1.0  0.171534 -0.098975  0.268425  0.338672  0.268353  0.060835   \n",
       "2       1.0  0.152317 -0.082973  0.287128  0.276014  0.189867  0.008714   \n",
       "3       1.0  0.224392  0.118985  0.329432  0.372088  0.361005  0.015501   \n",
       "4       1.0  0.087817 -0.068345  0.306967  0.330923  0.249144  0.006884   \n",
       "\n",
       "   MFCCs_ 8  MFCCs_ 9  MFCCs_10    ...     MFCCs_17  MFCCs_18  MFCCs_19  \\\n",
       "0 -0.150063 -0.171128  0.124676    ...    -0.108351 -0.077623 -0.009568   \n",
       "1 -0.222475 -0.207693  0.170883    ...    -0.090974 -0.056510 -0.035303   \n",
       "2 -0.242234 -0.219153  0.232538    ...    -0.050691 -0.023590 -0.066722   \n",
       "3 -0.194347 -0.098181  0.270375    ...    -0.136009 -0.177037 -0.130498   \n",
       "4 -0.265423 -0.172700  0.266434    ...    -0.048885 -0.053074 -0.088550   \n",
       "\n",
       "   MFCCs_20  MFCCs_21  MFCCs_22           Family      Genus         Species  \\\n",
       "0  0.057684  0.118680  0.014038  Leptodactylidae  Adenomera  AdenomeraAndre   \n",
       "1  0.020140  0.082263  0.029056  Leptodactylidae  Adenomera  AdenomeraAndre   \n",
       "2 -0.025083  0.099108  0.077162  Leptodactylidae  Adenomera  AdenomeraAndre   \n",
       "3 -0.054766 -0.018691  0.023954  Leptodactylidae  Adenomera  AdenomeraAndre   \n",
       "4 -0.031346  0.108610  0.079244  Leptodactylidae  Adenomera  AdenomeraAndre   \n",
       "\n",
       "   RecordID  \n",
       "0         1  \n",
       "1         1  \n",
       "2         1  \n",
       "3         1  \n",
       "4         1  \n",
       "\n",
       "[5 rows x 26 columns]"
      ]
     },
     "execution_count": 5,
     "metadata": {},
     "output_type": "execute_result"
    }
   ],
   "source": [
    "df = pd.read_csv('data.csv')\n",
    "df.head()"
   ]
  },
  {
   "cell_type": "code",
   "execution_count": 6,
   "metadata": {},
   "outputs": [],
   "source": [
    "from sklearn.model_selection import train_test_split\n",
    "train, test = train_test_split(df, random_state=42, test_size=0.30, shuffle=True)\n",
    "train.index = range(len(train))\n",
    "test.index = range(len(test))"
   ]
  },
  {
   "cell_type": "markdown",
   "metadata": {},
   "source": [
    "## (b)i:\n",
    "### Exact match: The predict labels is exactly the same as the real labels is called exact match. We could use accuracy to calculate the value.\n",
    "### hamming score/loss: In multiclass classification, the Hamming loss corresponds to the Hamming distance between y_true and y_pred which is similar to the Zero one loss function, the calculation formula = （1/n)*(hamming distance/m) (n:#of instances, m: #of labels)"
   ]
  },
  {
   "cell_type": "code",
   "execution_count": 7,
   "metadata": {},
   "outputs": [],
   "source": [
    "x_train = train.iloc[:,0:22]\n",
    "x_test = test.iloc[:,0:22]\n",
    "fa_train = train.iloc[:,22]\n",
    "fa_test = test.iloc[:,22]\n",
    "ge_train = train.iloc[:,23]\n",
    "ge_test = test.iloc[:,23]\n",
    "sp_train = train.iloc[:,24]\n",
    "sp_test = test.iloc[:,24]"
   ]
  },
  {
   "cell_type": "markdown",
   "metadata": {},
   "source": [
    "## (b)ii Train a SVM for each of the labels,using Gaussian kernels and one versus all classifiers.\n",
    "### First we train SVM with large and small parameters o n the whole training data and choose the parameter ranges for gamma = np.logspace(-1,2,10) and c = 10^-1,....10^5 .\n",
    "### Best parameter for gamma=2.154435, C=100.000000.\n",
    "### After using Gaussian kernels the exact match using all labels and all classes is 0.9874942102825383, the average hamming loss is  0.008028408213679172."
   ]
  },
  {
   "cell_type": "code",
   "execution_count": 43,
   "metadata": {},
   "outputs": [
    {
     "name": "stdout",
     "output_type": "stream",
     "text": [
      "The accuracy score 0.8091709124594719\n"
     ]
    }
   ],
   "source": [
    "from sklearn.svm import SVC  \n",
    "from sklearn.model_selection import GridSearchCV\n",
    "#We Assume the threhold for the accuracy is 0.6\n",
    "clf = SVC(C=10**-1,kernel='rbf')\n",
    "clf.fit(x_train,fa_train)\n",
    "fa1 = clf.predict(x_test)\n",
    "print(\"The accuracy score\",accuracy_score(fa_test,fa1))"
   ]
  },
  {
   "cell_type": "code",
   "execution_count": 8,
   "metadata": {},
   "outputs": [
    {
     "name": "stdout",
     "output_type": "stream",
     "text": [
      "The accuracy score 0.9865678554886521\n"
     ]
    }
   ],
   "source": [
    "clf2 = SVC(C=10**5,kernel='rbf')\n",
    "clf2.fit(x_train,fa_train)\n",
    "fa2 = clf2.predict(x_test)\n",
    "print(\"The accuracy score\",accuracy_score(fa_test,fa2))"
   ]
  },
  {
   "cell_type": "code",
   "execution_count": 241,
   "metadata": {},
   "outputs": [
    {
     "name": "stdout",
     "output_type": "stream",
     "text": [
      "The accuracy score 0.9453450671607225\n"
     ]
    }
   ],
   "source": [
    "clf3 = SVC(gamma=0.125,kernel='rbf')\n",
    "clf3.fit(x_train,fa_train)\n",
    "fa3 = clf3.predict(x_test)\n",
    "print(\"The accuracy score\",accuracy_score(fa_test,fa3))"
   ]
  },
  {
   "cell_type": "code",
   "execution_count": 249,
   "metadata": {},
   "outputs": [
    {
     "name": "stdout",
     "output_type": "stream",
     "text": [
      "The accuracy score 0.8161185734136174\n"
     ]
    }
   ],
   "source": [
    "clf4 = SVC(gamma=100,kernel='rbf')\n",
    "clf4.fit(x_train,fa_train)\n",
    "fa4 = clf4.predict(x_test)\n",
    "print(\"The accuracy score\",accuracy_score(fa_test,fa4))"
   ]
  },
  {
   "cell_type": "markdown",
   "metadata": {},
   "source": [
    "### According to the test we make we decide to choose\n",
    "#### gamma = np.logspace(-1,2,10) and \n",
    "#### c = 10^-1,....10^5"
   ]
  },
  {
   "cell_type": "code",
   "execution_count": 58,
   "metadata": {},
   "outputs": [],
   "source": [
    "params_dict = {\"estimator__C\": [10**-1,10**0,10**1,10**2,10**3,10**4,10**5], \"estimator__gamma\":np.logspace(-1,2,10)}\n",
    "model = OneVsRestClassifier(SVC(kernel='rbf',max_iter=2000))\n",
    "\n",
    "# Fit the grid search\n",
    "gs = GridSearchCV(estimator=model, param_grid=params_dict, cv=10,scoring='accuracy')"
   ]
  },
  {
   "cell_type": "code",
   "execution_count": 59,
   "metadata": {},
   "outputs": [
    {
     "data": {
      "text/plain": [
       "GridSearchCV(cv=10, error_score='raise-deprecating',\n",
       "       estimator=OneVsRestClassifier(estimator=SVC(C=1.0, cache_size=200, class_weight=None, coef0=0.0,\n",
       "  decision_function_shape='ovr', degree=3, gamma='auto_deprecated',\n",
       "  kernel='rbf', max_iter=2000, probability=False, random_state=None,\n",
       "  shrinking=True, tol=0.001, verbose=False),\n",
       "          n_jobs=None),\n",
       "       fit_params=None, iid='warn', n_jobs=None,\n",
       "       param_grid={'estimator__C': [0.1, 1, 10, 100, 1000, 10000, 100000], 'estimator__gamma': array([  0.1    ,   0.21544,   0.46416,   1.     ,   2.15443,   4.64159,\n",
       "        10.     ,  21.54435,  46.41589, 100.     ])},\n",
       "       pre_dispatch='2*n_jobs', refit=True, return_train_score='warn',\n",
       "       scoring='accuracy', verbose=0)"
      ]
     },
     "execution_count": 59,
     "metadata": {},
     "output_type": "execute_result"
    }
   ],
   "source": [
    "gs.fit(x_train, fa_train)"
   ]
  },
  {
   "cell_type": "code",
   "execution_count": 94,
   "metadata": {},
   "outputs": [],
   "source": [
    "fa_pred = gs.predict(x_test)"
   ]
  },
  {
   "cell_type": "code",
   "execution_count": 66,
   "metadata": {},
   "outputs": [],
   "source": [
    "gs1 = GridSearchCV(estimator=model, param_grid=params_dict, cv=10,scoring='accuracy')\n",
    "gs1.fit(x_train,ge_train)\n",
    "ge_pred = gs1.predict(x_test)"
   ]
  },
  {
   "cell_type": "code",
   "execution_count": 72,
   "metadata": {},
   "outputs": [],
   "source": [
    "gs2 = GridSearchCV(estimator=model, param_grid=params_dict, cv=10,scoring='accuracy')\n",
    "gs2.fit(x_train,sp_train)\n",
    "sp_pred=gs2.predict(x_test)"
   ]
  },
  {
   "cell_type": "code",
   "execution_count": 74,
   "metadata": {},
   "outputs": [
    {
     "name": "stdout",
     "output_type": "stream",
     "text": [
      "Best score using Gaussian kernels and one versus all classifiers = 0.993646 (gamma=2.154435, C=100.000000)\n"
     ]
    }
   ],
   "source": [
    "gs.best_params_\n",
    "best_gamma = gs.best_params_ ['estimator__gamma']  \n",
    "best_C = gs.best_params_['estimator__C']\n",
    "print('Best score using Gaussian kernels and one versus all classifiers = %f (gamma=%f, C=%f)' % (gs.best_score_, best_gamma, best_C))"
   ]
  },
  {
   "cell_type": "code",
   "execution_count": 100,
   "metadata": {},
   "outputs": [],
   "source": [
    "def hamming_multi(y_true,y_pred):\n",
    "    ham_distance=[]\n",
    "    for i in range(len(y_pred)):\n",
    "        ham_distance.append(hamming_loss(y_true.values.tolist()[i],y_pred.values.tolist()[i]))\n",
    "    return(np.mean(ham_distance))\n",
    "\n",
    "def exactmatch(y_true,y_pred):\n",
    "    exact_match=0\n",
    "    for i in range(len(y_true)):\n",
    "        if y_pred.iloc[i,0]==y_true.iloc[i,22] and y_pred.iloc[i,1]==y_true.iloc[i,23] and y_pred.iloc[i,2]==y_true.iloc[i,24]:\n",
    "            exact_match+=1\n",
    "    return exact_match/len(y_true)"
   ]
  },
  {
   "cell_type": "code",
   "execution_count": 101,
   "metadata": {},
   "outputs": [
    {
     "name": "stdout",
     "output_type": "stream",
     "text": [
      "The exact match for all the labels: 0.9874942102825383\n",
      "The average hamming loss for all the labels: 0.008028408213679172\n"
     ]
    }
   ],
   "source": [
    "pre_label = pd.DataFrame()\n",
    "pre_label[\"Family\"] = fa_pred\n",
    "pre_label[\"Genus\"] = ge_pred\n",
    "pre_label[\"Species\"] = sp_pred\n",
    "\n",
    "print(\"The exact match for all the labels:\",exactmatch(test,pre_label))\n",
    "print(\"The average hamming loss for all the labels:\",hamming_multi(test.iloc[:,22:25],pre_label))"
   ]
  },
  {
   "cell_type": "markdown",
   "metadata": {},
   "source": [
    "## (C) iii:Repeat 1(b)ii and L1-penalized SVMs\n",
    "\n",
    "### The exact match for all the labels = 0.9101435849930524,The average hamming loss=0.05697081982399259."
   ]
  },
  {
   "cell_type": "code",
   "execution_count": 46,
   "metadata": {},
   "outputs": [],
   "source": [
    "svm = OneVsRestClassifier(LinearSVC(loss='squared_hinge', penalty='l1', dual=False,max_iter=5000))\n",
    "params_dict1 = {\"estimator__C\": np.logspace(-1, 2, 10),               }\n",
    "# Fit the grid search\n",
    "gs1 = GridSearchCV(estimator=svm, param_grid=params_dict1,cv=10,scoring='accuracy')"
   ]
  },
  {
   "cell_type": "code",
   "execution_count": 48,
   "metadata": {},
   "outputs": [],
   "source": [
    "gs1.fit(x_train, fa_train)\n",
    "fa_pred1 = gs1.predict(x_test)"
   ]
  },
  {
   "cell_type": "code",
   "execution_count": 50,
   "metadata": {},
   "outputs": [],
   "source": [
    "gs2 = GridSearchCV(estimator=svm, param_grid=params_dict1,cv=10,scoring='accuracy')"
   ]
  },
  {
   "cell_type": "code",
   "execution_count": 51,
   "metadata": {},
   "outputs": [],
   "source": [
    "gs2.fit(x_train, ge_train)\n",
    "ge_pred1 = gs2.predict(x_test)"
   ]
  },
  {
   "cell_type": "code",
   "execution_count": 53,
   "metadata": {},
   "outputs": [],
   "source": [
    "gs3 = GridSearchCV(estimator=svm, param_grid=params_dict1,cv=10,scoring='accuracy')"
   ]
  },
  {
   "cell_type": "code",
   "execution_count": 54,
   "metadata": {},
   "outputs": [],
   "source": [
    "gs3.fit(x_train, sp_train)\n",
    "sp_pred1 = gs3.predict(x_test)"
   ]
  },
  {
   "cell_type": "code",
   "execution_count": 102,
   "metadata": {},
   "outputs": [
    {
     "name": "stdout",
     "output_type": "stream",
     "text": [
      "The exact match for all the labels: 0.9101435849930524\n",
      "The average hamming loss for all the labels: 0.05697081982399259\n"
     ]
    }
   ],
   "source": [
    "pre_label1 = pd.DataFrame()\n",
    "pre_label1[\"Family\"] = fa_pred1\n",
    "pre_label1[\"Genus\"] = ge_pred1\n",
    "pre_label1[\"Species\"] = sp_pred1\n",
    "\n",
    "print(\"The exact match for all the labels:\",exactmatch(test,pre_label1))\n",
    "print(\"The average hamming loss for all the labels:\",hamming_multi(test.iloc[:,22:25],pre_label1))"
   ]
  },
  {
   "cell_type": "markdown",
   "metadata": {},
   "source": [
    "## (b) iv:Using SMOTE to remedy the class imbalance\n",
    "### The exact match for all the labels = 0.9884205650764243，The average hamming loss =  0.008182800679326847.\n",
    "\n",
    "## Conclusion:\n",
    "### According to the classifiers we trained the SVM using gaussian kernel and linear kernel, and after smote using gaussian kernel as well. The conclusion is that when we don't remedy the imbalance data, the linear kenerl better performs worse than the gaussian kernel using the same method to train each label and one vs all classifiers. After we using smote, the result is better than we not smote using gaussian kernel. the best performance classifier is  the Gaussian kernel with the SMOTE method. \n"
   ]
  },
  {
   "cell_type": "code",
   "execution_count": 10,
   "metadata": {},
   "outputs": [],
   "source": [
    "from sklearn.preprocessing import MultiLabelBinarizer"
   ]
  },
  {
   "cell_type": "code",
   "execution_count": 11,
   "metadata": {},
   "outputs": [],
   "source": [
    "sme = SMOTE()\n",
    "fa_train = train.iloc[:,22]\n",
    "xfa_res, fa_res = sme.fit_sample(x_train, fa_train)\n",
    "xge_res, ge_res = sme.fit_sample(x_train, ge_train)\n",
    "xsp_res,sp_res = sme.fit_sample(x_train, sp_train)\n"
   ]
  },
  {
   "cell_type": "code",
   "execution_count": 14,
   "metadata": {},
   "outputs": [],
   "source": [
    "params_dict1 = {\"estimator__C\": [10**-1,10**0,10**1,10**2], \"estimator__gamma\":np.logspace(0,2,5)}\n",
    "model1 = OneVsRestClassifier(SVC(kernel='rbf',max_iter=2000))"
   ]
  },
  {
   "cell_type": "code",
   "execution_count": 22,
   "metadata": {},
   "outputs": [],
   "source": [
    "gs_smote1 = GridSearchCV(estimator=model1, param_grid=params_dict1, cv=10,scoring='accuracy')"
   ]
  },
  {
   "cell_type": "code",
   "execution_count": 23,
   "metadata": {},
   "outputs": [],
   "source": [
    "gs_smote1.fit(xfa_res, fa_res)\n",
    "fa_smote_pred = gs_smote1.predict(x_test)"
   ]
  },
  {
   "cell_type": "code",
   "execution_count": 15,
   "metadata": {},
   "outputs": [],
   "source": [
    "gs_smote2 = GridSearchCV(estimator=model1, param_grid=params_dict1, cv=10,scoring='accuracy')"
   ]
  },
  {
   "cell_type": "code",
   "execution_count": 16,
   "metadata": {},
   "outputs": [],
   "source": [
    "gs_smote2.fit(xge_res, ge_res)\n",
    "ge_smote_pred = gs_smote2.predict(x_test)"
   ]
  },
  {
   "cell_type": "code",
   "execution_count": 18,
   "metadata": {},
   "outputs": [],
   "source": [
    "gs_smote3 = GridSearchCV(estimator=model1, param_grid=params_dict1, cv=10,scoring='accuracy')"
   ]
  },
  {
   "cell_type": "code",
   "execution_count": 19,
   "metadata": {},
   "outputs": [],
   "source": [
    "gs_smote3.fit(xsp_res,sp_res)\n",
    "sp_smote_pred = gs_smote3.predict(x_test)"
   ]
  },
  {
   "cell_type": "code",
   "execution_count": 103,
   "metadata": {},
   "outputs": [
    {
     "name": "stdout",
     "output_type": "stream",
     "text": [
      "The exact match for all the labels: 0.9884205650764243\n",
      "The average hamming loss for all the labels: 0.008182800679326847\n"
     ]
    }
   ],
   "source": [
    "pre_label2 = pd.DataFrame()\n",
    "pre_label2[\"Family\"] = fa_smote_pred \n",
    "pre_label2[\"Genus\"] = ge_smote_pred\n",
    "pre_label2[\"Species\"] = sp_smote_pred\n",
    "\n",
    "print(\"The exact match for all the labels:\",exactmatch(test,pre_label2))\n",
    "print(\"The average hamming loss for all the labels:\",hamming_multi(test.iloc[:,22:25],pre_label2))"
   ]
  },
  {
   "cell_type": "markdown",
   "metadata": {},
   "source": [
    "# Homework2 K-means cluster\n",
    "## After the Monte-Carlo Simulation: \n",
    "### Average hamming distance for all the clusters = 0.8456462531330827, the total hamming distance = 6084.42479129253, the std= 0.0015865521728015127."
   ]
  },
  {
   "cell_type": "markdown",
   "metadata": {},
   "source": [
    "## (a):Use k-means clustering on the whole dataset\n",
    "### According to the silhoutte score we find the best k = 4."
   ]
  },
  {
   "cell_type": "code",
   "execution_count": 199,
   "metadata": {},
   "outputs": [
    {
     "data": {
      "image/png": "[encoded data removed]",
      "text/plain": [
       "<matplotlib.figure.Figure at 0x11e3d2c18>"
      ]
     },
     "metadata": {},
     "output_type": "display_data"
    }
   ],
   "source": [
    "data = df.iloc[:,:22].values\n",
    "Scores = []  \n",
    "for k in range(2, 11):\n",
    "    estimator = KMeans(n_clusters=k)  \n",
    "    cluster_labels=estimator.fit(data)\n",
    "    Scores.append(silhouette_score(data,estimator.labels_, metric='euclidean'))\n",
    "X = range(2, 11)\n",
    "plt.xlabel('k')\n",
    "plt.ylabel('Silohouettes')\n",
    "plt.plot(X, Scores, 'o-')\n",
    "plt.show()"
   ]
  },
  {
   "cell_type": "markdown",
   "metadata": {},
   "source": [
    "## Monte-Carlo Simulation: Perform the following procedures 50 times, and report the average and standard deviation of the 50 Hamming Distances that I calculate."
   ]
  },
  {
   "cell_type": "code",
   "execution_count": 35,
   "metadata": {},
   "outputs": [],
   "source": [
    "def Hamming(y_true,y_pred):\n",
    "    ham_distance=[]\n",
    "    for i in range(len(y_pred)):\n",
    "        ham_distance.append(hamming_loss(y_true,y_pred.values.tolist()[i]))\n",
    "    return(np.mean(ham_distance)*3)"
   ]
  },
  {
   "cell_type": "code",
   "execution_count": 292,
   "metadata": {},
   "outputs": [],
   "source": [
    "estimator=KMeans(n_clusters=4)\n",
    "res=estimator.fit_predict(data)\n",
    "lable_pred=estimator.labels_\n",
    "centroids=estimator.cluster_centers_\n",
    "inertia=estimator.inertia_"
   ]
  },
  {
   "cell_type": "code",
   "execution_count": 38,
   "metadata": {},
   "outputs": [],
   "source": [
    "aver_dis = []\n",
    "for i in range(1,51,1):\n",
    "    c1_label=[]\n",
    "    c2_label=[]\n",
    "    c3_label=[]\n",
    "    c4_label=[]\n",
    "    estimator=KMeans(n_clusters=4)\n",
    "    res=estimator.fit_predict(data)\n",
    "    lable_pred=estimator.labels_\n",
    "    c1 = pd.DataFrame(columns=df.columns)\n",
    "    c2 = pd.DataFrame(columns=df.columns)\n",
    "    c3 = pd.DataFrame(columns=df.columns)\n",
    "    c4 = pd.DataFrame(columns=df.columns) \n",
    "    for i in range(len(data)):\n",
    "        if int(lable_pred[i])==0:\n",
    "            c1 = c1.append(df.iloc[i,:])\n",
    "        if int(lable_pred[i])==1:\n",
    "            c2 = c2.append(df.iloc[i,:])\n",
    "        if int(lable_pred[i])==2:\n",
    "            c3 = c3.append(df.iloc[i,:])\n",
    "        if int(lable_pred[i])==3:\n",
    "            c4 = c4.append(df.iloc[i,:])\n",
    "    fa_result1 = pd.value_counts(c1[\"Family\"].values)\n",
    "    fa_result2 = pd.value_counts(c2[\"Family\"].values)\n",
    "    fa_result3 = pd.value_counts(c3[\"Family\"].values)\n",
    "    fa_result4 = pd.value_counts(c4[\"Family\"].values)\n",
    "    ge_result1 = pd.value_counts(c1[\"Genus\"].values)\n",
    "    ge_result2 = pd.value_counts(c2[\"Genus\"].values)\n",
    "    ge_result3 = pd.value_counts(c3[\"Genus\"].values)\n",
    "    ge_result4 = pd.value_counts(c4[\"Genus\"].values)\n",
    "    sp_result1 = pd.value_counts(c1[\"Species\"].values)\n",
    "    sp_result2 = pd.value_counts(c2[\"Species\"].values)\n",
    "    sp_result3 = pd.value_counts(c3[\"Species\"].values)\n",
    "    sp_result4 = pd.value_counts(c4[\"Species\"].values)\n",
    "    c1_label=[fa_result1.index[0],ge_result1.index[0],sp_result1.index[0]]\n",
    "    c2_label=[fa_result2.index[0],ge_result2.index[0],sp_result2.index[0]]\n",
    "    c3_label=[fa_result3.index[0],ge_result3.index[0],sp_result3.index[0]]\n",
    "    c4_label=[fa_result4.index[0],ge_result4.index[0],sp_result4.index[0]]\n",
    "    c1_pred = c1.iloc[:,22:25]\n",
    "    c2_pred = c2.iloc[:,22:25]\n",
    "    c3_pred = c3.iloc[:,22:25]\n",
    "    c4_pred = c4.iloc[:,22:25]\n",
    "    h1 = Hamming(c1_label,c1_pred)\n",
    "    h2 = Hamming(c2_label,c2_pred)\n",
    "    h3 = Hamming(c3_label,c3_pred)\n",
    "    h4 = Hamming(c4_label,c4_pred)\n",
    "    aver_dis.append((h1+h2+h3+h4)/4)"
   ]
  },
  {
   "cell_type": "code",
   "execution_count": 41,
   "metadata": {},
   "outputs": [
    {
     "name": "stdout",
     "output_type": "stream",
     "text": [
      "The average of the distance after 50 times procedures: 0.8456462531330827\n",
      "The std of the distance after 50 times procedures: 0.0015865521728015127\n"
     ]
    }
   ],
   "source": [
    "print(\"The average of the distance after 50 times procedures:\",np.mean(aver_dis))\n",
    "print(\"The std of the distance after 50 times procedures:\",np.std(aver_dis))"
   ]
  }
 ],
 "metadata": {
  "kernelspec": {
   "display_name": "Python 3",
   "language": "python",
   "name": "python3"
  },
  "language_info": {
   "codemirror_mode": {
    "name": "ipython",
    "version": 3
   },
   "file_extension": ".py",
   "mimetype": "text/x-python",
   "name": "python",
   "nbconvert_exporter": "python",
   "pygments_lexer": "ipython3",
   "version": "3.6.5"
  }
 },
 "nbformat": 4,
 "nbformat_minor": 2
}
