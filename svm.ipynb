{
 "cells": [
  {
   "cell_type": "markdown",
   "metadata": {},
   "source": [
    "## Q1:Supervised, Semi-Supervised, and Unsupervised Learning"
   ]
  },
  {
   "cell_type": "code",
   "execution_count": 1,
   "metadata": {},
   "outputs": [],
   "source": [
    "import pandas as pd\n",
    "import numpy as np\n",
    "from sklearn import preprocessing\n",
    "from sklearn.model_selection import train_test_split\n",
    "from sklearn.svm import LinearSVC\n",
    "import warnings\n",
    "warnings.filterwarnings('ignore')\n",
    "from sklearn import preprocessing\n",
    "from sklearn.model_selection import GridSearchCV\n",
    "from sklearn.metrics import accuracy_score\n",
    "from sklearn.metrics import recall_score\n",
    "from sklearn.metrics import f1_score\n",
    "from sklearn.metrics import roc_auc_score\n",
    "from sklearn.metrics import precision_score\n",
    "import matplotlib.pyplot as plt\n",
    "from sklearn.cluster import KMeans\n",
    "import random\n",
    "from sklearn.cluster import SpectralClustering\n",
    "from sklearn import manifold\n",
    "import heapq\n",
    "from heapq import heappush, heappop,nsmallest"
   ]
  },
  {
   "cell_type": "markdown",
   "metadata": {},
   "source": [
    "## (a) Choose training and test set"
   ]
  },
  {
   "cell_type": "code",
   "execution_count": 2,
   "metadata": {},
   "outputs": [],
   "source": [
    "df = pd.read_csv('wdbc.csv')"
   ]
  },
  {
   "cell_type": "code",
   "execution_count": 3,
   "metadata": {},
   "outputs": [],
   "source": [
    "data_pos = df[df['Diagnosis'].isin(['M'])]\n",
    "data_neg = df[df['Diagnosis'].isin(['B'])]\n",
    "testpos, trainpos = train_test_split(data_pos, test_size=0.80, shuffle=False)\n",
    "testneg, trainneg = train_test_split(data_neg, test_size=0.80, shuffle=False)\n",
    "train = pd.concat([trainneg,trainpos])\n",
    "test = pd.concat([testneg,testpos])\n",
    "train.index = range(len(train))\n",
    "test.index = range(len(test))"
   ]
  },
  {
   "cell_type": "code",
   "execution_count": 4,
   "metadata": {},
   "outputs": [],
   "source": [
    "x_cols = [x for x in df.columns if x != 'Diagnosis']\n",
    "df1 = df[x_cols]\n",
    "min_max_scaler = preprocessing.MinMaxScaler()\n",
    "np_scaled = min_max_scaler.fit_transform(df1)\n",
    "df_normalized = pd.DataFrame(np_scaled)\n",
    "df_normalized.columns = x_cols\n",
    "df_normalized['Diagnosis'] = df.iloc[:,1]\n",
    "df_normalized['Diagnosis'] = df_normalized['Diagnosis'].replace('B',0,regex=True)\n",
    "df_normalized['Diagnosis'] = df_normalized['Diagnosis'].replace('M',1,regex=True)"
   ]
  },
  {
   "cell_type": "markdown",
   "metadata": {},
   "source": [
    "## (b)Monte-Carlo Simulation\n",
    "\n",
    "### Compare the average scores (accuracy, precision, recall, F-score, and AUC)  that I obtain from the Supervised Learning, Semi-Supervised Learning and Unsupervised Learning we could draw the conclusion that the Supervised Learning has the best result among the 3 methods. The average accuracy, precision, recall and F-score are the best in the test data. As for the Semi-Supervised Learning and Unsupervised Learning, the Semi has a better performance on the test data. As for the Unsupervised Learning the k-means no matter for the test data or the train data has a better performance than the spectral clustering.\n",
    "### i:Supervised Learning: Train an L1-penalized SVM "
   ]
  },
  {
   "cell_type": "code",
   "execution_count": 127,
   "metadata": {},
   "outputs": [],
   "source": [
    "\n",
    "X = df_normalized[x_cols]\n",
    "y = df_normalized['Diagnosis']\n",
    "df_normalized['Diagnosis'] = df_normalized['Diagnosis'].replace('B',0,regex=True)\n",
    "df_normalized['Diagnosis'] = df_normalized['Diagnosis'].replace('M',1,regex=True)\n",
    "data_posn = df_normalized[df_normalized['Diagnosis'].isin([0])]\n",
    "data_negn = df_normalized[df_normalized['Diagnosis'].isin([1])]\n",
    "testposn, trainposn = train_test_split(data_posn, test_size=0.80, shuffle=False,random_state=0)\n",
    "testnegn, trainnegn = train_test_split(data_negn, test_size=0.80, shuffle=False,random_state=0)\n",
    "trainn = pd.concat([trainnegn,trainposn])\n",
    "testn = pd.concat([testnegn,testposn])\n",
    "trainn.index = range(len(trainn))\n",
    "testn.index = range(len(testn))"
   ]
  },
  {
   "cell_type": "code",
   "execution_count": 132,
   "metadata": {},
   "outputs": [],
   "source": [
    "x_train=trainn.iloc[:,0:31]\n",
    "y_train=trainn.iloc[:,31]\n",
    "x_test=testn.iloc[:,0:31]\n",
    "y_test=testn.iloc[:,31]\n",
    "Diag = train['Diagnosis']\n",
    "train.drop(labels=['Diagnosis'], axis=1,inplace = True)\n",
    "train.insert(31, 'Diagnosis', Diag)"
   ]
  },
  {
   "cell_type": "code",
   "execution_count": 133,
   "metadata": {},
   "outputs": [],
   "source": [
    "svm1 = LinearSVC(loss='squared_hinge',penalty='l1',dual=False)\n",
    "params_dict1 = {\"C\": np.logspace(-1, 2, 10)}\n",
    "gs1 = GridSearchCV(estimator=svm1, param_grid=params_dict1,cv=5,scoring='accuracy')\n",
    "gs1.fit(x_train, y_train)\n",
    "y_pred = gs1.predict(x_test)\n",
    "y_train_pred=gs1.predict(x_train)"
   ]
  },
  {
   "cell_type": "code",
   "execution_count": 159,
   "metadata": {},
   "outputs": [
    {
     "name": "stdout",
     "output_type": "stream",
     "text": [
      "Train data:\n",
      "The confusion matrix in the test set:***********\n",
      "\n",
      "Train Predicted classes    0    1\n",
      "Train Actual classes             \n",
      "0                        286    0\n",
      "1                          5  165\n"
     ]
    },
    {
     "data": {
      "image/png": "[encoded data removed]",
      "text/plain": [
       "<matplotlib.figure.Figure at 0x1a288ac400>"
      ]
     },
     "metadata": {},
     "output_type": "display_data"
    }
   ],
   "source": [
    "print(\"Train data:\")\n",
    "print(\"The confusion matrix in the test set:***********\\n\")\n",
    "print(pd.crosstab(y_train, y_train_pred, rownames=['Train Actual classes'], colnames=['Train Predicted classes']))\n",
    "from sklearn.metrics import roc_curve\n",
    "logit_roc_auc = roc_auc_score(y_train_pred,y_train)\n",
    "fpr, tpr, thresholds = roc_curve(y_train_pred,y_train)\n",
    "plt.figure()\n",
    "plt.plot(fpr, tpr, label='Linear SVM (area = %0.2f)' % logit_roc_auc)\n",
    "plt.plot([0, 1], [0, 1],'r--')\n",
    "plt.xlim([0.0, 1.0])\n",
    "plt.ylim([0.0, 1.05])\n",
    "plt.xlabel('False Positive Rate')\n",
    "plt.ylabel('True Positive Rate')\n",
    "plt.legend(loc=\"lower right\")\n",
    "plt.savefig('Log_ROC')\n",
    "plt.show()"
   ]
  },
  {
   "cell_type": "code",
   "execution_count": 161,
   "metadata": {},
   "outputs": [
    {
     "name": "stdout",
     "output_type": "stream",
     "text": [
      "Test data:\n",
      "The confusion matrix in the test set:***********\n",
      "\n",
      "Test Predicted classes   0   1\n",
      "Test Actual classes           \n",
      "0                       68   3\n",
      "1                        3  39\n"
     ]
    },
    {
     "data": {
      "image/png": "[encoded data removed]",
      "text/plain": [
       "<matplotlib.figure.Figure at 0x1a289cd470>"
      ]
     },
     "metadata": {},
     "output_type": "display_data"
    }
   ],
   "source": [
    "print(\"Test data:\")\n",
    "print(\"The confusion matrix in the test set:***********\\n\")\n",
    "print(pd.crosstab(y_test, y_pred, rownames=['Test Actual classes'], colnames=['Test Predicted classes']))\n",
    "from sklearn.metrics import roc_curve\n",
    "logit_roc_auc = roc_auc_score(y_pred,y_test)\n",
    "fpr, tpr, thresholds = roc_curve(y_pred,y_test)\n",
    "plt.figure()\n",
    "plt.plot(fpr, tpr, label='Linear SVM (area = %0.2f)' % logit_roc_auc)\n",
    "plt.plot([0, 1], [0, 1],'r--')\n",
    "plt.xlim([0.0, 1.0])\n",
    "plt.ylim([0.0, 1.05])\n",
    "plt.xlabel('False Positive Rate')\n",
    "plt.ylabel('True Positive Rate')\n",
    "plt.legend(loc=\"lower right\")\n",
    "plt.savefig('Log_ROC')\n",
    "plt.show()"
   ]
  },
  {
   "cell_type": "code",
   "execution_count": 140,
   "metadata": {},
   "outputs": [],
   "source": [
    "train_Acc=[]\n",
    "test_Acc=[]\n",
    "train_Precision=[]\n",
    "test_Precision=[]\n",
    "train_Recall=[]\n",
    "test_Recall=[]\n",
    "train_f1=[]\n",
    "test_f1=[]\n",
    "train_AUC=[]\n",
    "test_AUC=[]\n",
    "\n",
    "for i in range(1,31,1):\n",
    "    data_posn = df_normalized[df_normalized['Diagnosis'].isin([0])]\n",
    "    data_negn = df_normalized[df_normalized['Diagnosis'].isin([1])]\n",
    "    testposn, trainposn = train_test_split(data_posn, test_size=0.80, shuffle=False,random_state=i)\n",
    "    testnegn, trainnegn = train_test_split(data_negn, test_size=0.80, shuffle=False,random_state=i)\n",
    "    trainn = pd.concat([trainnegn,trainposn])\n",
    "    testn = pd.concat([testnegn,testposn])\n",
    "    trainn.index = range(len(trainn))\n",
    "    testn.index = range(len(testn))\n",
    "    x_train=trainn.iloc[:,0:31]\n",
    "    y_train=trainn.iloc[:,31]\n",
    "    x_test=testn.iloc[:,0:31]\n",
    "    y_test=testn.iloc[:,31]\n",
    "    svm1 = LinearSVC(loss='squared_hinge',penalty='l1',dual=False)\n",
    "    params_dict1 = {\"C\": np.logspace(-1, 2, 10)}\n",
    "    gs1 = GridSearchCV(estimator=svm1, param_grid=params_dict1,cv=5,scoring='accuracy')\n",
    "    gs1.fit(x_train, y_train)\n",
    "    y_pred = gs1.predict(x_test)\n",
    "    y_train_pred=gs1.predict(x_train)\n",
    "    train_Acc.append(accuracy_score(y_train_pred,y_train))\n",
    "    test_Acc.append(accuracy_score(y_pred,y_test))\n",
    "    train_Precision.append(precision_score(y_train_pred,y_train))\n",
    "    test_Precision.append(precision_score(y_pred,y_test))\n",
    "    train_Recall.append(recall_score(y_train_pred,y_train))\n",
    "    test_Recall.append(recall_score(y_pred,y_test))\n",
    "    train_f1.append(f1_score(y_train_pred,y_train))\n",
    "    test_f1.append(f1_score(y_pred,y_test))\n",
    "    train_AUC.append(roc_auc_score(y_train_pred,y_train))\n",
    "    test_AUC.append(roc_auc_score(y_pred,y_test))"
   ]
  },
  {
   "cell_type": "code",
   "execution_count": 144,
   "metadata": {},
   "outputs": [
    {
     "name": "stdout",
     "output_type": "stream",
     "text": [
      "Train set\n",
      "Average Accuracy: 0.9863157894736843\n",
      "Average Precision: 0.9683529411764705\n",
      "Average Recall: 0.9948079970928763\n",
      "Average f1: 0.9813874343449885\n",
      "Average AUC: 0.9881534371909251\n",
      "**********\n",
      "Test Data\n",
      "Average Accuracy: 0.9589380530973451\n",
      "Average Precision: 0.9433333333333335\n",
      "Average Recall: 0.9464046526360764\n",
      "Average f1: 0.944755477052947\n",
      "Average AUC: 0.9564806206289369\n"
     ]
    }
   ],
   "source": [
    "print(\"Train set\")\n",
    "print(\"Average Accuracy:\",np.mean(train_Acc))\n",
    "print(\"Average Precision:\",np.mean(train_Precision))\n",
    "print(\"Average Recall:\",np.mean(train_Recall))\n",
    "print(\"Average f1:\",np.mean(train_f1))\n",
    "print(\"Average AUC:\",np.mean(train_AUC))\n",
    "print(\"**********\")\n",
    "print(\"Test Data\")\n",
    "print(\"Average Accuracy:\",np.mean(test_Acc))\n",
    "print(\"Average Precision:\",np.mean(test_Precision))\n",
    "print(\"Average Recall:\",np.mean(test_Recall))\n",
    "print(\"Average f1:\",np.mean(test_f1))\n",
    "print(\"Average AUC:\",np.mean(test_AUC))"
   ]
  },
  {
   "cell_type": "markdown",
   "metadata": {},
   "source": [
    "### ii:Semi-Supervised Learning/ Self-training:"
   ]
  },
  {
   "cell_type": "code",
   "execution_count": 271,
   "metadata": {},
   "outputs": [],
   "source": [
    "train_pos = trainn[trainn['Diagnosis'].isin([1])]\n",
    "train_neg = trainn[trainn['Diagnosis'].isin([0])]\n",
    "train_label_pos, train_unlabel_pos = train_test_split(train_pos, test_size=0.50, shuffle=False,random_state=0)\n",
    "train_label_neg, train_unlabel_neg = train_test_split(train_neg, test_size=0.50, shuffle=False,random_state=0)\n",
    "train_label = pd.concat([train_label_pos,train_label_neg])\n",
    "train_unlabel = pd.concat([train_unlabel_pos,train_unlabel_neg])\n",
    "train_label.index = range(len(train_label))\n",
    "train_unlabel.index = range(len(train_unlabel))\n",
    "x_train_label=train_label.iloc[:,0:31]\n",
    "y_train_label=train_label.iloc[:,31]\n",
    "x_train_unlabel = train_unlabel.iloc[:,0:31]\n",
    "y_train_unlabel=train_unlabel.iloc[:,31]"
   ]
  },
  {
   "cell_type": "code",
   "execution_count": 283,
   "metadata": {},
   "outputs": [],
   "source": [
    "svm1 = LinearSVC(loss='squared_hinge',penalty='l1',dual=False)\n",
    "params_dict1 = {\"C\": np.logspace(-1, 2, 10)}\n",
    "gs2 = GridSearchCV(estimator=svm1, param_grid=params_dict1,cv=5,scoring='accuracy')\n",
    "gs2.fit(x_train_label,y_train_label)\n",
    "best_C = gs2.best_params_['C']\n",
    "x_newtrain_label = x_train_label\n",
    "y_newtrain_label = y_train_label\n",
    "x_newtrain_unlabel = x_train_unlabel\n",
    "y_newtrain_unlabel = y_train_unlabel\n",
    "for i in range(len(x_train_unlabel)):\n",
    "    dist=[]\n",
    "    svm_lin = LinearSVC(loss='squared_hinge',penalty='l1',dual=False,C=best_C)\n",
    "    svm_lin.fit(x_newtrain_label,y_newtrain_label)\n",
    "    y_new_pred = svm_lin.predict(x_newtrain_unlabel)\n",
    "    #Calculate the longest distance\n",
    "    y = svm_lin.decision_function(x_newtrain_unlabel)\n",
    "    w_norm = np.linalg.norm(svm_lin.coef_)\n",
    "    dist = y / w_norm\n",
    "    dist = dist.tolist()\n",
    "    max_dis = dist.index(max(dist))\n",
    "    #add newtrain\n",
    "    x_newtrain_label = x_newtrain_label.append(x_train_unlabel.iloc[max_dis,:])\n",
    "    y_newtrain_label = np.append(y_newtrain_label,y_new_pred[max_dis])\n",
    "    #drop unlabel\n",
    "    x_newtrain_unlabel.drop(x_newtrain_unlabel.index[[max_dis]],inplace=True)\n",
    "y_pred1 = svm_lin.predict(x_test)\n",
    "y_train_pred1=svm_lin.predict(x_train)"
   ]
  },
  {
   "cell_type": "code",
   "execution_count": 284,
   "metadata": {},
   "outputs": [
    {
     "name": "stdout",
     "output_type": "stream",
     "text": [
      "Train data:\n",
      "The confusion matrix in the test set:***********\n",
      "\n",
      "Train Predicted classes    0    1\n",
      "Train Actual classes             \n",
      "0                        278    8\n",
      "1                          5  165\n"
     ]
    },
    {
     "data": {
      "image/png": "[encoded data removed]",
      "text/plain": [
       "<matplotlib.figure.Figure at 0x1a280d01d0>"
      ]
     },
     "metadata": {},
     "output_type": "display_data"
    }
   ],
   "source": [
    "print(\"Train data:\")\n",
    "print(\"The confusion matrix in the test set:***********\\n\")\n",
    "print(pd.crosstab(y_train, y_train_pred1, rownames=['Train Actual classes'], colnames=['Train Predicted classes']))\n",
    "from sklearn.metrics import roc_curve\n",
    "logit_roc_auc = roc_auc_score(y_train_pred1,y_train)\n",
    "fpr, tpr, thresholds = roc_curve(y_train_pred1,y_train)\n",
    "plt.figure()\n",
    "plt.plot(fpr, tpr, label='Semi SVM (area = %0.2f)' % logit_roc_auc)\n",
    "plt.plot([0, 1], [0, 1],'r--')\n",
    "plt.xlim([0.0, 1.0])\n",
    "plt.ylim([0.0, 1.05])\n",
    "plt.xlabel('False Positive Rate')\n",
    "plt.ylabel('True Positive Rate')\n",
    "plt.legend(loc=\"lower right\")\n",
    "plt.savefig('Log_ROC')\n",
    "plt.show()"
   ]
  },
  {
   "cell_type": "code",
   "execution_count": 285,
   "metadata": {},
   "outputs": [
    {
     "name": "stdout",
     "output_type": "stream",
     "text": [
      "Test data:\n",
      "The confusion matrix in the test set:***********\n",
      "\n",
      "Test Predicted classes   0   1\n",
      "Test Actual classes           \n",
      "0                       68   3\n",
      "1                        2  40\n"
     ]
    },
    {
     "data": {
      "image/png": "[encoded data removed]",
      "text/plain": [
       "<matplotlib.figure.Figure at 0x1a28654470>"
      ]
     },
     "metadata": {},
     "output_type": "display_data"
    }
   ],
   "source": [
    "print(\"Test data:\")\n",
    "print(\"The confusion matrix in the test set:***********\\n\")\n",
    "print(pd.crosstab(y_test, y_pred1, rownames=['Test Actual classes'], colnames=['Test Predicted classes']))\n",
    "from sklearn.metrics import roc_curve\n",
    "logit_roc_auc = roc_auc_score(y_pred1,y_test)\n",
    "fpr, tpr, thresholds = roc_curve(y_pred1,y_test)\n",
    "plt.figure()\n",
    "plt.plot(fpr, tpr, label='Semi SVM (area = %0.2f)' % logit_roc_auc)\n",
    "plt.plot([0, 1], [0, 1],'r--')\n",
    "plt.xlim([0.0, 1.0])\n",
    "plt.ylim([0.0, 1.05])\n",
    "plt.xlabel('False Positive Rate')\n",
    "plt.ylabel('True Positive Rate')\n",
    "plt.legend(loc=\"lower right\")\n",
    "plt.savefig('Log_ROC')\n",
    "plt.show()"
   ]
  },
  {
   "cell_type": "code",
   "execution_count": 357,
   "metadata": {},
   "outputs": [],
   "source": [
    "train_Acc1=[]\n",
    "test_Acc1=[]\n",
    "train_Precision1=[]\n",
    "test_Precision1=[]\n",
    "train_Recall1=[]\n",
    "test_Recall1=[]\n",
    "train_f11=[]\n",
    "test_f11=[]\n",
    "train_AUC1=[]\n",
    "test_AUC1=[]\n",
    "\n",
    "for j in range(1,31,1):\n",
    "    train_label_pos, train_unlabel_pos = train_test_split(train_pos, test_size=0.50, shuffle=False,random_state=j)\n",
    "    train_label_neg, train_unlabel_neg = train_test_split(train_neg, test_size=0.50, shuffle=False,random_state=j)\n",
    "    train_label = pd.concat([train_label_pos,train_label_neg])\n",
    "    train_unlabel = pd.concat([train_unlabel_pos,train_unlabel_neg])\n",
    "    train_label.index = range(len(train_label))\n",
    "    train_unlabel.index = range(len(train_unlabel))\n",
    "    x_train_label=train_label.iloc[:,0:31]\n",
    "    y_train_label=train_label.iloc[:,31]\n",
    "    x_train_unlabel = train_unlabel.iloc[:,0:31]\n",
    "    y_train_unlabel=train_unlabel.iloc[:,31]\n",
    "    for i in range(len(x_train_unlabel)):\n",
    "        svm2 = LinearSVC(loss='squared_hinge',penalty='l1',dual=False)\n",
    "        params_dict1 = {\"C\": np.logspace(-1, 2, 10)}\n",
    "        gs3 = GridSearchCV(estimator=svm1, param_grid=params_dict1,cv=5,scoring='accuracy')\n",
    "        gs3.fit(x_train_label,y_train_label)\n",
    "        best_C = gs3.best_params_['C']\n",
    "        x_newtrain_label = x_train_label\n",
    "        y_newtrain_label = y_train_label\n",
    "        x_newtrain_unlabel = x_train_unlabel\n",
    "        y_newtrain_unlabel = y_train_unlabel\n",
    "        dist=[]\n",
    "        svm_lin = LinearSVC(loss='squared_hinge',penalty='l1',dual=False,C=best_C)\n",
    "        svm_lin.fit(x_newtrain_label,y_newtrain_label)\n",
    "        y_new_pred = svm_lin.predict(x_newtrain_unlabel)\n",
    "        #Calculate the distance\n",
    "        y = svm_lin.decision_function(x_newtrain_unlabel)\n",
    "        w_norm = np.linalg.norm(svm_lin.coef_)\n",
    "        dist = y / w_norm\n",
    "        dist = dist.tolist()\n",
    "        max_dis = dist.index(max(dist))\n",
    "        #add newtrain\n",
    "        x_newtrain_label = x_newtrain_label.append(x_train_unlabel.iloc[max_dis,:])\n",
    "        y_newtrain_label = np.append(y_newtrain_label,y_new_pred[max_dis])\n",
    "        #drop unlabel\n",
    "        x_newtrain_unlabel.drop(x_newtrain_unlabel.index[[max_dis]],inplace=True)\n",
    "    y_pred2 = svm_lin.predict(x_test)\n",
    "    y_train_pred2 = svm_lin.predict(x_train)\n",
    "    train_Acc1.append(accuracy_score(y_train_pred2,y_train))\n",
    "    test_Acc1.append(accuracy_score(y_pred2,y_test))\n",
    "    train_Precision1.append(precision_score(y_train_pred2,y_train))\n",
    "    test_Precision1.append(precision_score(y_pred2,y_test))\n",
    "    train_Recall1.append(recall_score(y_train_pred2,y_train))\n",
    "    test_Recall1.append(recall_score(y_pred2,y_test))\n",
    "    train_f11.append(f1_score(y_train_pred2,y_train))\n",
    "    test_f11.append(f1_score(y_pred2,y_test))\n",
    "    train_AUC1.append(roc_auc_score(y_train_pred2,y_train))\n",
    "    test_AUC1.append(roc_auc_score(y_pred2,y_test))"
   ]
  },
  {
   "cell_type": "code",
   "execution_count": 358,
   "metadata": {},
   "outputs": [
    {
     "name": "stdout",
     "output_type": "stream",
     "text": [
      "Train set\n",
      "Average Accuracy: 0.9714912280701752\n",
      "Average Precision: 0.9529411764705882\n",
      "Average Recall: 0.970059880239521\n",
      "Average f1: 0.961424332344214\n",
      "Average AUC: 0.9711891096699332\n",
      "**********\n",
      "Test Data\n",
      "Average Accuracy: 0.9383480825958702\n",
      "Average Precision: 0.9293650793650791\n",
      "Average Recall: 0.9070472163495419\n",
      "Average f1: 0.9180665754673962\n",
      "Average AUC: 0.9323262306730453\n"
     ]
    }
   ],
   "source": [
    "print(\"Train set\")\n",
    "print(\"Average Accuracy:\",np.mean(train_Acc1))\n",
    "print(\"Average Precision:\",np.mean(train_Precision1))\n",
    "print(\"Average Recall:\",np.mean(train_Recall1))\n",
    "print(\"Average f1:\",np.mean(train_f11))\n",
    "print(\"Average AUC:\",np.mean(train_AUC1))\n",
    "print(\"**********\")\n",
    "print(\"Test Data\")\n",
    "print(\"Average Accuracy:\",np.mean(test_Acc1))\n",
    "print(\"Average Precision:\",np.mean(test_Precision1))\n",
    "print(\"Average Recall:\",np.mean(test_Recall1))\n",
    "print(\"Average f1:\",np.mean(test_f11))\n",
    "print(\"Average AUC:\",np.mean(test_AUC1))"
   ]
  },
  {
   "cell_type": "markdown",
   "metadata": {},
   "source": [
    "### iii:Unsupervised Learning：Run k-means algorithm\n",
    "\n",
    "### I initialize the alforithm randomly mutiple times with the parameter 'n_init' and 'random_state' to make sure the algorithem was not trapped in a local minimum"
   ]
  },
  {
   "cell_type": "code",
   "execution_count": 195,
   "metadata": {},
   "outputs": [],
   "source": [
    "train['Diagnosis'] = train['Diagnosis'].replace('B',0,regex=True)\n",
    "train['Diagnosis'] = train['Diagnosis'].replace('M',1,regex=True)\n",
    "test['Diagnosis'] = test['Diagnosis'].replace('B',0,regex=True)\n",
    "test['Diagnosis'] = test['Diagnosis'].replace('M',1,regex=True)\n",
    "x_train_un = train[x_cols]\n",
    "y_train_un = train['Diagnosis']\n",
    "x_test_un = test[x_cols]\n",
    "y_test_un = test['Diagnosis']\n",
    "x_train_un1 = x_train_un.iloc[:,1:]\n",
    "y_train_un1 = y_train_un\n",
    "x_test_un1 = x_test_un.iloc[:,1:]\n",
    "y_test_un1 = y_test_un"
   ]
  },
  {
   "cell_type": "code",
   "execution_count": 434,
   "metadata": {},
   "outputs": [],
   "source": [
    "kmeans = KMeans(n_clusters=2,n_init=100,random_state=100).fit(x_train_un1)\n",
    "center = kmeans.cluster_centers_\n",
    "#find the 30 nearest distance to center0 in x_train_un\n",
    "d0 = kmeans.transform(x_train_un1)[:, 0]\n",
    "ind0 = np.argsort(d0)[::][:30].tolist()\n",
    "l0 = y_train_un1.iloc[ind0].tolist()\n",
    "pol0 = max(set(l0), key = l0.count)\n",
    "#find the 30 nearest distance to center1 in x_train_un\n",
    "d1 = kmeans.transform(x_train_un1)[:, 1]\n",
    "ind1 = np.argsort(d1)[::][:30].tolist()\n",
    "l1 = y_train_un1.iloc[ind1].tolist()\n",
    "pol1 = max(set(l1), key = l1.count)\n",
    "pre_train = kmeans.predict(x_train_un1)\n",
    "for n in range(len(pre_train)):\n",
    "    if(pre_train[n] == 0):\n",
    "        pre_train[n] = pol0\n",
    "    elif(pre_train[n] == 1):\n",
    "        pre_train[n] = pol1\n",
    "\n",
    "pre_test = kmeans.predict(x_test_un1)\n",
    "for n in range(len(pre_test)):\n",
    "    if(pre_test[n] == 0):\n",
    "        pre_test[n] = pol0\n",
    "    elif(pre_test[n] == 1):\n",
    "        pre_test[n] = pol1"
   ]
  },
  {
   "cell_type": "code",
   "execution_count": 441,
   "metadata": {},
   "outputs": [
    {
     "name": "stdout",
     "output_type": "stream",
     "text": [
      "Train data:\n",
      "The confusion matrix in the test set:***********\n",
      "\n",
      "Train Predicted classes    0    1\n",
      "Train Actual classes             \n",
      "0                        285    1\n",
      "1                         68  102\n"
     ]
    },
    {
     "data": {
      "image/png": "[encoded data removed]",
      "text/plain": [
       "<matplotlib.figure.Figure at 0x1a2ed74198>"
      ]
     },
     "metadata": {},
     "output_type": "display_data"
    }
   ],
   "source": [
    "print(\"Train data:\")\n",
    "print(\"The confusion matrix in the test set:***********\\n\")\n",
    "print(pd.crosstab(y_train_un1, pre_train, rownames=['Train Actual classes'], colnames=['Train Predicted classes']))\n",
    "from sklearn.metrics import roc_curve\n",
    "logit_roc_auc = roc_auc_score(pre_train,y_train_un1)\n",
    "fpr, tpr, thresholds = roc_curve(pre_train,y_train_un1)\n",
    "plt.figure()\n",
    "plt.plot(fpr, tpr, label='Kmeans (area = %0.2f)' % logit_roc_auc)\n",
    "plt.plot([0, 1], [0, 1],'r--')\n",
    "plt.xlim([0.0, 1.0])\n",
    "plt.ylim([0.0, 1.05])\n",
    "plt.xlabel('False Positive Rate')\n",
    "plt.ylabel('True Positive Rate')\n",
    "plt.legend(loc=\"lower right\")\n",
    "plt.savefig('Log_ROC')\n",
    "plt.show()"
   ]
  },
  {
   "cell_type": "code",
   "execution_count": 442,
   "metadata": {},
   "outputs": [
    {
     "name": "stdout",
     "output_type": "stream",
     "text": [
      "Test data:\n",
      "The confusion matrix in the test set:***********\n",
      "\n",
      "Test Predicted classes   0   1\n",
      "Test Actual classes           \n",
      "0                       71   0\n",
      "1                       22  20\n"
     ]
    },
    {
     "data": {
      "image/png": "[encoded data removed]",
      "text/plain": [
       "<matplotlib.figure.Figure at 0x1a2c67d5c0>"
      ]
     },
     "metadata": {},
     "output_type": "display_data"
    }
   ],
   "source": [
    "print(\"Test data:\")\n",
    "print(\"The confusion matrix in the test set:***********\\n\")\n",
    "print(pd.crosstab(y_test_un1, pre_test, rownames=['Test Actual classes'], colnames=['Test Predicted classes']))\n",
    "logit_roc_auc = roc_auc_score(pre_test,y_test_un1)\n",
    "fpr, tpr, thresholds = roc_curve(pre_test,y_test_un1)\n",
    "plt.figure()\n",
    "plt.plot(fpr, tpr, label='Kmeans test set (area = %0.2f)' % logit_roc_auc)\n",
    "plt.plot([0, 1], [0, 1],'r--')\n",
    "plt.xlim([0.0, 1.0])\n",
    "plt.ylim([0.0, 1.05])\n",
    "plt.xlabel('False Positive Rate')\n",
    "plt.ylabel('True Positive Rate')\n",
    "plt.legend(loc=\"lower right\")\n",
    "plt.savefig('Log_ROC')\n",
    "plt.show()"
   ]
  },
  {
   "cell_type": "code",
   "execution_count": 158,
   "metadata": {},
   "outputs": [],
   "source": [
    "train_Acc2=[]\n",
    "test_Acc2=[]\n",
    "train_Precision2=[]\n",
    "test_Precision2=[]\n",
    "train_Recall2=[]\n",
    "test_Recall2=[]\n",
    "train_f12=[]\n",
    "test_f12=[]\n",
    "train_AUC2=[]\n",
    "test_AUC2=[]\n",
    "\n",
    "for i in range(1,31,1):\n",
    "    y_train_pred3=[]\n",
    "    y_pred3=[]\n",
    "    data_pos = df[df['Diagnosis'].isin(['M'])]\n",
    "    data_neg = df[df['Diagnosis'].isin(['B'])]\n",
    "    testpos, trainpos = train_test_split(data_pos, test_size=0.80, random_state=i)\n",
    "    testneg, trainneg = train_test_split(data_neg, test_size=0.80, random_state=i)\n",
    "    train = pd.concat([trainneg,trainpos])\n",
    "    test = pd.concat([testneg,testpos])\n",
    "    train.index = range(len(train))\n",
    "    test.index = range(len(test))\n",
    "    train['Diagnosis'] = train['Diagnosis'].replace('B',0,regex=True)\n",
    "    train['Diagnosis'] = train['Diagnosis'].replace('M',1,regex=True)\n",
    "    test['Diagnosis'] = test['Diagnosis'].replace('B',0,regex=True)\n",
    "    test['Diagnosis'] = test['Diagnosis'].replace('M',1,regex=True)\n",
    "    x_train_un = train[x_cols]\n",
    "    y_train_un = train['Diagnosis']\n",
    "    x_test_un = test[x_cols]\n",
    "    y_test_un = test['Diagnosis']\n",
    "    x_train_un1 = x_train_un.iloc[:,1:]\n",
    "    y_train_un1 = y_train_un\n",
    "    x_test_un1 = x_test_un.iloc[:,1:]\n",
    "    y_test_un1 = y_test_un\n",
    "    kmeans = KMeans(n_clusters=2,init='random',random_state=i).fit(x_train_un1)\n",
    "    d0 = kmeans.transform(x_train_un1)[:, 0]\n",
    "    ind0 = np.argsort(d0)[::][:30].tolist()\n",
    "    l0 = y_train_un1.iloc[ind0].tolist()\n",
    "    pol0 = max(set(l0), key = l0.count)\n",
    "    #find the 30 nearest distance to center1 in x_train_un\n",
    "    d1 = kmeans.transform(x_train_un1)[:, 1]\n",
    "    ind1 = np.argsort(d1)[::][:30].tolist()\n",
    "    l1 = y_train_un1.iloc[ind1].tolist()\n",
    "    pol1 = max(set(l1), key = l1.count)\n",
    "    y_train_pred3 = kmeans.predict(x_train_un1)\n",
    "    for n in range(len(y_train_pred3)):\n",
    "        if(y_train_pred3[n] == 0):\n",
    "            y_train_pred3[n] = pol0\n",
    "        elif(y_train_pred3[n] == 1):\n",
    "            y_train_pred3[n] = pol1\n",
    "    y_pred3 = kmeans.predict(x_test_un1)\n",
    "    for n in range(len(y_pred3)):\n",
    "        if(y_pred3[n] == 0):\n",
    "            y_pred3[n] = pol0\n",
    "        elif(y_pred3[n] == 1):\n",
    "            y_pred3[n] = pol1\n",
    "    train_Acc2.append(accuracy_score(y_train_pred3,y_train_un1))\n",
    "    test_Acc2.append(accuracy_score(y_pred3,y_test_un1))\n",
    "    train_Precision2.append(precision_score(y_train_pred3,y_train_un1))\n",
    "    test_Precision2.append(precision_score(y_pred3,y_test_un1))\n",
    "    train_Recall2.append(recall_score(y_train_pred3,y_train_un1))\n",
    "    test_Recall2.append(recall_score(y_pred3,y_test_un1))\n",
    "    train_f12.append(f1_score(y_train_pred3,y_train_un1))\n",
    "    test_f12.append(f1_score(y_pred3,y_test_un1))\n",
    "    train_AUC2.append(roc_auc_score(y_train_pred3,y_train_un1))\n",
    "    test_AUC2.append(roc_auc_score(y_pred3,y_test_un1))    "
   ]
  },
  {
   "cell_type": "code",
   "execution_count": 159,
   "metadata": {},
   "outputs": [
    {
     "name": "stdout",
     "output_type": "stream",
     "text": [
      "Train set\n",
      "Average Accuracy: 0.8504385964912279\n",
      "Average Precision: 0.6039215686274509\n",
      "Average Recall: 0.9916495537687565\n",
      "Average f1: 0.7504043130021116\n",
      "Average AUC: 0.9003596477519407\n",
      "**********\n",
      "Test Data\n",
      "Average Accuracy: 0.8557522123893805\n",
      "Average Precision: 0.6150793650793651\n",
      "Average Recall: 0.9946221532091097\n",
      "Average f1: 0.7574339930745542\n",
      "Average AUC: 0.9050150482935286\n"
     ]
    }
   ],
   "source": [
    "print(\"Train set\")\n",
    "print(\"Average Accuracy:\",np.mean(train_Acc2))\n",
    "print(\"Average Precision:\",np.mean(train_Precision2))\n",
    "print(\"Average Recall:\",np.mean(train_Recall2))\n",
    "print(\"Average f1:\",np.mean(train_f12))\n",
    "print(\"Average AUC:\",np.mean(train_AUC2))\n",
    "print(\"**********\")\n",
    "print(\"Test Data\")\n",
    "print(\"Average Accuracy:\",np.mean(test_Acc2))\n",
    "print(\"Average Precision:\",np.mean(test_Precision2))\n",
    "print(\"Average Recall:\",np.mean(test_Recall2))\n",
    "print(\"Average f1:\",np.mean(test_f12))\n",
    "print(\"Average AUC:\",np.mean(test_AUC2))"
   ]
  },
  {
   "cell_type": "markdown",
   "metadata": {},
   "source": [
    "### iv:Spectral Clustering\n",
    "### What spectral clustering is: Spectral clustering is a techniques that make use of the spectrum (eigenvalues) of the similarity matrix of the data to perform dimensionality reduction before clustering in fewer dimensions. The similarity matrix is provided as an input and consists of a quantitative assessment of the relative similarity of each pair of points in the dataset."
   ]
  },
  {
   "cell_type": "code",
   "execution_count": 7,
   "metadata": {},
   "outputs": [],
   "source": [
    "data_pos['Diagnosis'] = data_pos['Diagnosis'].replace('M',1,regex=True)\n",
    "data_neg['Diagnosis'] = data_neg['Diagnosis'].replace('B',0,regex=True)\n",
    "data_pos1 = data_pos.iloc[:,2:]\n",
    "data_pos1['Diagnosis'] = data_pos['Diagnosis']\n",
    "data_neg1 = data_neg.iloc[:,2:]\n",
    "data_neg1['Diagnosis'] = data_neg['Diagnosis']\n",
    "X_train_M4, X_test_M4, y_train_M4, y_test_M4 = train_test_split(data_pos1.iloc[:,:-1],data_pos1.iloc[:,-1], test_size=0.2, random_state=10, shuffle=True)\n",
    "X_train_B4, X_test_B4, y_train_B4, y_test_B4 = train_test_split(data_neg1.iloc[:,:-1],data_neg1.iloc[:,-1], test_size=0.2, random_state=10, shuffle=True)\n",
    "X_train4 = pd.concat([X_train_M4,X_train_B4])\n",
    "y_train4 = pd.concat([y_train_M4,y_train_B4])\n",
    "X_test4 = pd.concat([X_test_M4,X_test_B4])\n",
    "y_test4 = pd.concat([y_test_M4,y_test_B4])\n",
    " \n",
    "x_train_sc = manifold.SpectralEmbedding(n_components=2).fit_transform(X_train4)\n",
    "x_test_sc = manifold.SpectralEmbedding(n_components=2).fit_transform(X_test4)\n",
    "kmeans1 = KMeans(n_clusters=2,init='random',n_init=20).fit(x_train_sc)\n",
    "d0_sc = kmeans1.transform(x_train_sc)[:, 0]\n",
    "ind0_sc = np.argsort(d0_sc)[::][:30].tolist()\n",
    "l0_sc = y_train4.iloc[ind0_sc].tolist()\n",
    "pol0_sc = max(set(l0_sc), key = l0_sc.count)\n",
    "#find the 30 nearest distance to center1 in x_train_sc\n",
    "d1_sc = kmeans1.transform(x_train_sc)[:, 1]\n",
    "ind1_sc = np.argsort(d1_sc)[::][:30].tolist()\n",
    "l1_sc = y_train4.iloc[ind1_sc].tolist()\n",
    "pol1_sc = max(set(l1_sc), key = l1_sc.count)\n",
    "y_train_pred1 = kmeans1.predict(x_train_sc)\n",
    "for n in range(len(y_train_pred1)):\n",
    "    if(y_train_pred1[n] == 0):\n",
    "        y_train_pred1[n] = pol0_sc\n",
    "    elif(y_train_pred1[n] == 1):\n",
    "        y_train_pred1[n] = pol1_sc\n",
    "\n",
    "pre_test1 = kmeans1.predict(x_test_sc)\n",
    "for n in range(len(pre_test1)):\n",
    "    if(pre_test1[n] == 0):\n",
    "        pre_test1[n] = pol0_sc\n",
    "    elif(pre_test1[n] == 1):\n",
    "        pre_test1[n] = pol1_sc"
   ]
  },
  {
   "cell_type": "code",
   "execution_count": 225,
   "metadata": {},
   "outputs": [
    {
     "name": "stdout",
     "output_type": "stream",
     "text": [
      "Train data:\n",
      "The confusion matrix in the test set:***********\n",
      "\n",
      "Train Predicted classes    0    1\n",
      "Train Actual classes             \n",
      "0                        282   48\n",
      "1                          3  121\n"
     ]
    },
    {
     "data": {
      "image/png": "[encoded data removed]",
      "text/plain": [
       "<matplotlib.figure.Figure at 0x1a2d5bb710>"
      ]
     },
     "metadata": {},
     "output_type": "display_data"
    }
   ],
   "source": [
    "print(\"Train data:\")\n",
    "print(\"The confusion matrix in the test set:***********\\n\")\n",
    "print(pd.crosstab(y_train_pred1,y_train4, rownames=['Train Actual classes'], colnames=['Train Predicted classes']))\n",
    "from sklearn.metrics import roc_curve\n",
    "logit_roc_auc = roc_auc_score(y_train_pred1,y_train4)\n",
    "fpr, tpr, thresholds = roc_curve(y_train_pred1,y_train4)\n",
    "plt.figure()\n",
    "plt.plot(fpr, tpr, label='Spectral Clustering (area = %0.2f)' % logit_roc_auc)\n",
    "plt.plot([0, 1], [0, 1],'r--')\n",
    "plt.xlim([0.0, 1.0])\n",
    "plt.ylim([0.0, 1.05])\n",
    "plt.xlabel('False Positive Rate')\n",
    "plt.ylabel('True Positive Rate')\n",
    "plt.legend(loc=\"lower right\")\n",
    "plt.savefig('Log_ROC')\n",
    "plt.show()"
   ]
  },
  {
   "cell_type": "code",
   "execution_count": 8,
   "metadata": {},
   "outputs": [
    {
     "name": "stdout",
     "output_type": "stream",
     "text": [
      "Train data:\n",
      "The confusion matrix in the test set:***********\n",
      "\n",
      "Train Predicted classes    0    1\n",
      "Train Actual classes             \n",
      "0                        282   53\n",
      "1                          3  116\n"
     ]
    },
    {
     "data": {
      "image/png": "[encoded data removed]",
      "text/plain": [
       "<matplotlib.figure.Figure at 0x1072876d8>"
      ]
     },
     "metadata": {},
     "output_type": "display_data"
    }
   ],
   "source": [
    "print(\"Train data:\")\n",
    "print(\"The confusion matrix in the test set:***********\\n\")\n",
    "print(pd.crosstab(y_train_pred1,y_train4, rownames=['Train Actual classes'], colnames=['Train Predicted classes']))\n",
    "from sklearn.metrics import roc_curve\n",
    "logit_roc_auc = roc_auc_score(y_train_pred1,y_train4)\n",
    "fpr, tpr, thresholds = roc_curve(y_train_pred1,y_train4)\n",
    "plt.figure()\n",
    "plt.plot(fpr, tpr, label='Spectral Clustering (area = %0.2f)' % logit_roc_auc)\n",
    "plt.plot([0, 1], [0, 1],'r--')\n",
    "plt.xlim([0.0, 1.0])\n",
    "plt.ylim([0.0, 1.05])\n",
    "plt.xlabel('False Positive Rate')\n",
    "plt.ylabel('True Positive Rate')\n",
    "plt.legend(loc=\"lower right\")\n",
    "plt.savefig('Log_ROC')\n",
    "plt.show()"
   ]
  },
  {
   "cell_type": "code",
   "execution_count": 233,
   "metadata": {},
   "outputs": [
    {
     "name": "stdout",
     "output_type": "stream",
     "text": [
      "Test data:\n",
      "The confusion matrix in the test set:***********\n",
      "\n",
      "Test Predicted classes   0   1\n",
      "Test Actual classes           \n",
      "0                       71   6\n",
      "1                        1  37\n"
     ]
    },
    {
     "data": {
      "image/png": "[encoded data removed]",
      "text/plain": [
       "<matplotlib.figure.Figure at 0x1a267704e0>"
      ]
     },
     "metadata": {},
     "output_type": "display_data"
    }
   ],
   "source": [
    "print(\"Test data:\")\n",
    "print(\"The confusion matrix in the test set:***********\\n\")\n",
    "print(pd.crosstab(pre_test1,y_test4, rownames=['Test Actual classes'], colnames=['Test Predicted classes']))\n",
    "logit_roc_auc = roc_auc_score(pre_test1,y_test4)\n",
    "fpr, tpr, thresholds = roc_curve(pre_test1,y_test4)\n",
    "plt.figure()\n",
    "plt.plot(fpr, tpr, label='Spectral Clustering test set (area = %0.2f)' % logit_roc_auc)\n",
    "plt.plot([0, 1], [0, 1],'r--')\n",
    "plt.xlim([0.0, 1.0])\n",
    "plt.ylim([0.0, 1.05])\n",
    "plt.xlabel('False Positive Rate')\n",
    "plt.ylabel('True Positive Rate')\n",
    "plt.legend(loc=\"lower right\")\n",
    "plt.savefig('Log_ROC')\n",
    "plt.show()"
   ]
  },
  {
   "cell_type": "code",
   "execution_count": 38,
   "metadata": {},
   "outputs": [],
   "source": [
    "train_acc8=[]\n",
    "test_acc8=[]\n",
    "train_precision8=[]\n",
    "test_precision8=[]\n",
    "train_recall8=[]\n",
    "test_recall8=[]\n",
    "train_fscore8=[]\n",
    "test_fscore8=[]\n",
    "train_auc8=[]\n",
    "test_auc8=[]\n",
    "\n",
    "for i in range(0,10,1):\n",
    "    X_train_M4, X_test_M4, y_train_M4, y_test_M4 = train_test_split(data_pos1.iloc[:,:-1],data_pos1.iloc[:,-1], test_size=0.2, random_state=i, shuffle=True)\n",
    "    X_train_B4, X_test_B4, y_train_B4, y_test_B4 = train_test_split(data_neg1.iloc[:,:-1],data_neg1.iloc[:,-1], test_size=0.2, random_state=i, shuffle=True)\n",
    "    X_train4 = pd.concat([X_train_M4,X_train_B4])\n",
    "    y_train4 = pd.concat([y_train_M4,y_train_B4])\n",
    "    X_test4 = pd.concat([X_test_M4,X_test_B4])\n",
    "    y_test4 = pd.concat([y_test_M4,y_test_B4])\n",
    "    dis_train = manifold.SpectralEmbedding(n_components=2).fit_transform(X_train4)\n",
    "    dis_test = manifold.SpectralEmbedding(n_components=2).fit_transform(X_test4)\n",
    "    k_model = KMeans(n_clusters=2,init='random',random_state=i,n_init = 20).fit(dis_train)\n",
    "    d0 = k_model.transform(dis_train)[:, 1]\n",
    "    dis_30_1 = np.argsort(d0)[::][:30].tolist()\n",
    "    l0= y_train4.iloc[dis_30_1].tolist()\n",
    "    pol0_sc = max(set(l0), key = l0.count)\n",
    "    #find the 30 nearest distance to center1 in x_train_un\n",
    "    d1 = k_model.transform(dis_train)[:, 0]\n",
    "    dis_30_2 = np.argsort(d1)[::][:30].tolist()\n",
    "    l1 = y_train4.iloc[dis_30_2].tolist()\n",
    "    pol1_sc = max(set(l1), key = l1.count)\n",
    "    pre_train4 = k_model.predict(dis_train)\n",
    "    for n in range(len(pre_train4)):\n",
    "        if(pre_train4[n] == 0):\n",
    "            pre_train4[n] = pol0_sc\n",
    "        elif(pre_train4[n] == 1):\n",
    "            pre_train4[n] = pol1_sc\n",
    "    pre_test4 = k_model.predict(dis_test)\n",
    "    for n in range(len(pre_test4)):\n",
    "        if(pre_test4[n] == 0):\n",
    "            pre_test4[n] = pol0_sc\n",
    "        elif(pre_test4[n] == 1):\n",
    "            pre_test4[n] = pol1_sc\n",
    "    train_acc8.append(accuracy_score(y_train4,pre_train4))\n",
    "    test_acc8.append(accuracy_score(y_test4,pre_test4))\n",
    "    train_precision8.append(precision_score(y_train4,pre_train4))\n",
    "    test_precision8.append(precision_score(y_test4,pre_test4))\n",
    "    train_recall8.append(recall_score(y_train4,pre_train4))\n",
    "    test_recall8.append(recall_score(y_test4,pre_test4))\n",
    "    train_fscore8.append(f1_score(y_train4,pre_train4))\n",
    "    test_fscore8.append(f1_score(y_test4,pre_test4))\n",
    "    train_auc8.append(roc_auc_score(y_train4,pre_train4))\n",
    "    test_auc8.append(roc_auc_score(y_test4,pre_test4))"
   ]
  },
  {
   "cell_type": "code",
   "execution_count": 40,
   "metadata": {},
   "outputs": [
    {
     "name": "stdout",
     "output_type": "stream",
     "text": [
      "Train set\n",
      "Average Accuracy: 0.8812775330396476\n",
      "Average Precision: 0.9792027247068157\n",
      "Average Recall: 0.6958579881656805\n",
      "Average f1: 0.8134437093620159\n",
      "Average AUC: 0.8435430291705595\n",
      "**********\n",
      "Test Data\n",
      "Average Accuracy: 0.5365217391304348\n",
      "Average Precision: 0.4602679569699887\n",
      "Average Recall: 0.7209302325581395\n",
      "Average f1: 0.5527094388762712\n",
      "Average AUC: 0.5736595607235142\n"
     ]
    }
   ],
   "source": [
    "print(\"Train set\")\n",
    "print(\"Average Accuracy:\",np.mean(train_acc8))\n",
    "print(\"Average Precision:\",np.mean(train_precision8))\n",
    "print(\"Average Recall:\",np.mean(train_recall8))\n",
    "print(\"Average f1:\",np.mean(train_fscore8))\n",
    "print(\"Average AUC:\",np.mean(train_auc8))\n",
    "print(\"**********\")\n",
    "print(\"Test Data\")\n",
    "print(\"Average Accuracy:\",np.mean(test_acc8))\n",
    "print(\"Average Precision:\",np.mean(test_precision8))\n",
    "print(\"Average Recall:\",np.mean(test_recall8))\n",
    "print(\"Average f1:\",np.mean(test_fscore8))\n",
    "print(\"Average AUC:\",np.mean(test_auc8))"
   ]
  },
  {
   "cell_type": "markdown",
   "metadata": {},
   "source": [
    "# Homework 2 Active Learning Using Support Vector Machines\n",
    "\n",
    "## (a)Random select test and train data "
   ]
  },
  {
   "cell_type": "code",
   "execution_count": 21,
   "metadata": {},
   "outputs": [],
   "source": [
    "df_ac = pd.read_csv('data2.csv')"
   ]
  },
  {
   "cell_type": "code",
   "execution_count": 22,
   "metadata": {},
   "outputs": [],
   "source": [
    "a = random.sample([i for i in range(1372)],472)\n",
    "test_ac = pd.DataFrame(columns = df_ac.columns)\n",
    "train_ac = pd.DataFrame(columns = df_ac.columns)\n",
    "for i in range(len(df_ac)):\n",
    "    if i in a:\n",
    "        test_ac=test_ac.append(df_ac.iloc[i,:])\n",
    "    else:\n",
    "        train_ac=train_ac.append(df_ac.iloc[i,:])"
   ]
  },
  {
   "cell_type": "code",
   "execution_count": 23,
   "metadata": {},
   "outputs": [],
   "source": [
    "x_train_ac = train_ac.iloc[:,:4]\n",
    "y_train_ac = train_ac.iloc[:,4]\n",
    "x_test_ac = test_ac.iloc[:,:4]\n",
    "y_test_ac = test_ac.iloc[:,4]"
   ]
  },
  {
   "cell_type": "markdown",
   "metadata": {},
   "source": [
    "## (b) Repeat each of the following two procedures 50 times\n",
    "\n",
    "### i:Train a SVM with a pool of 10 randomly selected data points\n",
    "\n",
    "#### Choose the range for parameter C:According to the accuracy we decide to choose c between 0.01 and 100"
   ]
  },
  {
   "cell_type": "code",
   "execution_count": 50,
   "metadata": {},
   "outputs": [
    {
     "name": "stdout",
     "output_type": "stream",
     "text": [
      "accuracy with C=0.0001:  0.5488888888888889\n",
      "accuracy with C=0.001:  0.8888888888888888\n",
      "accuracy with C=0.1:  0.9866666666666667\n",
      "accuracy with C=100:  0.9922222222222222\n"
     ]
    }
   ],
   "source": [
    "temp_model = LinearSVC(penalty='l1',loss='squared_hinge', dual=False,C=0.0001)\n",
    "temp_model.fit(x_train_ac, y_train_ac)\n",
    "pre = temp_model.predict(x_train_ac)\n",
    "print(\"accuracy with C=0.0001: \",accuracy_score(y_train_ac, pre))\n",
    "\n",
    "temp_model2 = LinearSVC(penalty='l1',loss='squared_hinge', dual=False,C=0.001)\n",
    "temp_model2.fit(x_train_ac, y_train_ac)\n",
    "pre2 = temp_model2.predict(x_train_ac)\n",
    "print(\"accuracy with C=0.001: \",accuracy_score(y_train_ac, pre2))\n",
    "\n",
    "temp_model3 = LinearSVC(penalty='l1',loss='squared_hinge', dual=False,C=0.1)\n",
    "temp_model3.fit(x_train_ac, y_train_ac)\n",
    "pre3 = temp_model3.predict(x_train_ac)\n",
    "print(\"accuracy with C=0.1: \",accuracy_score(y_train_ac, pre3))\n",
    "\n",
    "temp_model4 = LinearSVC(penalty='l1',loss='squared_hinge', dual=False,C=1)\n",
    "temp_model4.fit(x_train_ac, y_train_ac)\n",
    "pre4 = temp_model4.predict(x_train_ac)\n",
    "print(\"accuracy with C=100: \",accuracy_score(y_train_ac, pre4))"
   ]
  },
  {
   "cell_type": "code",
   "execution_count": 34,
   "metadata": {},
   "outputs": [],
   "source": [
    "svms_all1 = [[] for i in range(50)]\n",
    "test_error1 = [[] for i in range(50)]\n",
    "for j in range(0,50,1):   \n",
    "    ori_train_ac = train_ac\n",
    "    new_train_ac = pd.DataFrame(columns = df_ac.columns)\n",
    "    for i in range(0,900,10):\n",
    "        if i<20:\n",
    "            k_fold=5\n",
    "        else:\n",
    "            k_fold=10\n",
    "        if i<890:\n",
    "            a =  pd.DataFrame(columns = df_ac.columns)\n",
    "            a, ori_train_ac = train_test_split(ori_train_ac, train_size=10)\n",
    "            while(len(a[\"class\"].unique()) == 1):\n",
    "                ori_train_ac = ori_train_ac.append(a)\n",
    "                a, ori_train_ac = train_test_split(ori_train_ac, train_size=10)    \n",
    "            new_train_ac = new_train_ac.append(a)\n",
    "        else:\n",
    "            new_train_ac = new_train_ac.append(ori_train_ac)\n",
    "        x_new_train_ac = new_train_ac.iloc[:,:4]\n",
    "        y_new_train_ac = new_train_ac.iloc[:,4]\n",
    "        svm = LinearSVC(loss='squared_hinge',penalty='l1',dual=False)\n",
    "        params_dict1 = {\"C\": np.logspace(-2, 2, 10)}\n",
    "        gs = GridSearchCV(estimator=svm, param_grid=params_dict1,cv=k_fold,scoring='accuracy')\n",
    "        gs.fit(x_new_train_ac,y_new_train_ac)\n",
    "        svms_all1[j].append(gs)\n",
    "        y_pred_ac = gs.predict(x_test_ac)\n",
    "        test_error1[j].append(1-accuracy_score(y_pred_ac,y_test_ac))"
   ]
  },
  {
   "cell_type": "code",
   "execution_count": 183,
   "metadata": {},
   "outputs": [],
   "source": [
    "ins_test_error=[]\n",
    "avg_test_error=[]\n",
    "for j in range(0,90,1):\n",
    "    ins_test_error=[]\n",
    "    for i in range(0,50,1):\n",
    "        ins_test_error.append(test_error1[i][j])\n",
    "    avg_test_error.append(np.mean(ins_test_error)) "
   ]
  },
  {
   "cell_type": "markdown",
   "metadata": {},
   "source": [
    "### ii:Train a SVM with a pool of 10 randomly selected data points"
   ]
  },
  {
   "cell_type": "code",
   "execution_count": 116,
   "metadata": {},
   "outputs": [],
   "source": [
    "svms_all3 = [[] for i in range(50)]\n",
    "test_error3 = [[] for i in range(50)]\n",
    "\n",
    "for j in range(0,50,1):   \n",
    "    ori_train_ac = train_ac\n",
    "    new_train_ac = pd.DataFrame(columns = df_ac.columns)\n",
    "    for i in range(0,900,10):\n",
    "        if i<10:\n",
    "            k_fold=5\n",
    "        else:\n",
    "            k_fold=10\n",
    "        if i<10:\n",
    "            a =  pd.DataFrame(columns = df_ac.columns)\n",
    "            a, ori_train_ac = train_test_split(ori_train_ac, train_size=10)\n",
    "            while(len(a[\"class\"].unique()) == 1):\n",
    "                ori_train_ac = ori_train_ac.append(a)\n",
    "                a, ori_train_ac = train_test_split(ori_train_ac, train_size=10)\n",
    "            new_train_ac = new_train_ac.append(a)\n",
    "        new_train_ac.index = range(len(new_train_ac))\n",
    "        ori_train_ac.index = range(len(ori_train_ac))\n",
    "        x_new_train_ac = new_train_ac.iloc[:,:4]\n",
    "        y_new_train_ac = new_train_ac.iloc[:,4]\n",
    "        x_ori_train_ac = ori_train_ac.iloc[:,:4]\n",
    "        y_ori_train_ac = ori_train_ac.iloc[:,4]\n",
    "        svm = LinearSVC(loss='squared_hinge',penalty='l1',dual=False)\n",
    "        params_dict1 = {\"C\": np.logspace(-2, 2, 10)}\n",
    "        gs4 = GridSearchCV(estimator=svm, param_grid=params_dict1,cv=k_fold,scoring='accuracy')\n",
    "        gs4.fit(x_new_train_ac,y_new_train_ac)\n",
    "        best_C1 = gs4.best_params_['C']\n",
    "        svm_lin1 = LinearSVC(loss='squared_hinge',penalty='l1',dual=False,C=best_C1)\n",
    "        svm_lin1.fit(x_new_train_ac,y_new_train_ac)\n",
    "        svms_all3[j].append(svm_lin1)\n",
    "        y_pred_ac1 = svm_lin1.predict(x_test_ac)\n",
    "        test_error3[j].append(1-accuracy_score(y_pred_ac1,y_test_ac))\n",
    "        if i < 890:\n",
    "            dists=[]\n",
    "            dists = svm_lin1.decision_function(x_ori_train_ac)\n",
    "            absdists = np.abs(dists)\n",
    "            closest = absdists.argsort()[:10]\n",
    "            new_train_ac = new_train_ac.append(ori_train_ac.iloc[absdists.argsort()[:10],:])\n",
    "            ori_train_ac.drop(absdists.argsort()[:10],inplace=True)"
   ]
  },
  {
   "cell_type": "code",
   "execution_count": 181,
   "metadata": {},
   "outputs": [],
   "source": [
    "ins_test_error1=[]\n",
    "avg_test_error1=[]\n",
    "for j in range(0,90,1):\n",
    "    ins_test_error1=[]\n",
    "    for i in range(0,50,1):\n",
    "        ins_test_error1.append(test_error3[i][j])\n",
    "    avg_test_error1.append(np.mean(ins_test_error1)) "
   ]
  },
  {
   "cell_type": "code",
   "execution_count": 179,
   "metadata": {},
   "outputs": [],
   "source": [
    "avg1 = []\n",
    "avg2 = []\n",
    "for i in range(90):\n",
    "    sum1 = 0\n",
    "    sum2 = 0\n",
    "    for j in range(50):\n",
    "        sum1 += test_error1[j][i]\n",
    "        sum2 += test_error3[j][i]\n",
    "    avg1.append(sum1/50)\n",
    "    avg2.append(sum2/50)\n"
   ]
  },
  {
   "cell_type": "code",
   "execution_count": 184,
   "metadata": {},
   "outputs": [
    {
     "data": {
      "image/png": "[encoded data removed]",
      "text/plain": [
       "<matplotlib.figure.Figure at 0x1a2e0fec88>"
      ]
     },
     "metadata": {},
     "output_type": "display_data"
    }
   ],
   "source": [
    "plt.figure()\n",
    "x=[]\n",
    "for i in range(0,900,10):\n",
    "    x.append(i)\n",
    "arr1 = np.array(avg_test_error)\n",
    "arr2 = np.array(avg_test_error1)\n",
    "plt.plot(x, arr1,label=\"Passive Learning\",color=\"blue\",linewidth=1)\n",
    "plt.plot(x, arr2, label='Active Learning',color=\"orange\",linewidth=1)\n",
    "plt.ylim([0.0, 0.14])\n",
    "plt.title('Average Test Error VS Number of Training Instances')\n",
    "plt.xlabel('Number of Instance')\n",
    "plt.ylabel('Average Test Error Rate')\n",
    "plt.legend(loc=\"upper right\")\n",
    "plt.show()\n"
   ]
  },
  {
   "cell_type": "markdown",
   "metadata": {},
   "source": [
    "## Conclusion：\n",
    "### According to the graph we know that generally both error rates decrease with the incresement number of the training data. As for the passive learning and active learning, as a whole, in this case the active learning has a better performance than the passive learning because of the smaller test error. Besides both passive and active error rates become steady after about 400 instances of training data and then the 2 methods test error rates become similar."
   ]
  },
  {
   "cell_type": "code",
   "execution_count": null,
   "metadata": {},
   "outputs": [],
   "source": []
  }
 ],
 "metadata": {
  "kernelspec": {
   "display_name": "Python 3",
   "language": "python",
   "name": "python3"
  },
  "language_info": {
   "codemirror_mode": {
    "name": "ipython",
    "version": 3
   },
   "file_extension": ".py",
   "mimetype": "text/x-python",
   "name": "python",
   "nbconvert_exporter": "python",
   "pygments_lexer": "ipython3",
   "version": "3.6.5"
  }
 },
 "nbformat": 4,
 "nbformat_minor": 2
}
